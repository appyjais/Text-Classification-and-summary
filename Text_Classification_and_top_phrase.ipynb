{
  "nbformat": 4,
  "nbformat_minor": 0,
  "metadata": {
    "colab": {
      "name": "Text Classification and top phrase.ipynb",
      "provenance": [],
      "collapsed_sections": [],
      "toc_visible": true,
      "authorship_tag": "ABX9TyOdi+CP137RhnJgkRJWCbam",
      "include_colab_link": true
    },
    "kernelspec": {
      "display_name": "Python 3",
      "name": "python3"
    }
  },
  "cells": [
    {
      "cell_type": "markdown",
      "metadata": {
        "id": "view-in-github",
        "colab_type": "text"
      },
      "source": [
        "<a href=\"https://colab.research.google.com/github/appyjais/Text-Classification-and-summary/blob/main/Text_Classification_and_top_phrase.ipynb\" target=\"_parent\"><img src=\"https://colab.research.google.com/assets/colab-badge.svg\" alt=\"Open In Colab\"/></a>"
      ]
    },
    {
      "cell_type": "code",
      "metadata": {
        "colab": {
          "base_uri": "https://localhost:8080/"
        },
        "id": "GaVz_fwEAVus",
        "outputId": "ce961f60-d8c1-4640-c739-7285419f5170"
      },
      "source": [
        "import pandas as pd\r\n",
        "import tensorflow as tf\r\n",
        "import numpy as np\r\n",
        "import os\r\n",
        "import seaborn as sns\r\n",
        "import matplotlib.pyplot as plt\r\n",
        "from google.colab import drive\r\n",
        "drive.mount('/content/drive')\r\n"
      ],
      "execution_count": 152,
      "outputs": [
        {
          "output_type": "stream",
          "text": [
            "Drive already mounted at /content/drive; to attempt to forcibly remount, call drive.mount(\"/content/drive\", force_remount=True).\n"
          ],
          "name": "stdout"
        }
      ]
    },
    {
      "cell_type": "code",
      "metadata": {
        "id": "X7nzbEIqE-xc"
      },
      "source": [
        "path = '/content/drive/MyDrive/Assignment/securly/dataset/dataset/train.csv/train.csv'\r\n",
        "df = pd.read_csv(path)"
      ],
      "execution_count": 153,
      "outputs": []
    },
    {
      "cell_type": "code",
      "metadata": {
        "colab": {
          "base_uri": "https://localhost:8080/",
          "height": 191
        },
        "id": "AZYMDirAG9kU",
        "outputId": "412032c7-f406-45e4-9fa8-8cb83ed09386"
      },
      "source": [
        "df.head()"
      ],
      "execution_count": 154,
      "outputs": [
        {
          "output_type": "execute_result",
          "data": {
            "text/html": [
              "<div>\n",
              "<style scoped>\n",
              "    .dataframe tbody tr th:only-of-type {\n",
              "        vertical-align: middle;\n",
              "    }\n",
              "\n",
              "    .dataframe tbody tr th {\n",
              "        vertical-align: top;\n",
              "    }\n",
              "\n",
              "    .dataframe thead th {\n",
              "        text-align: right;\n",
              "    }\n",
              "</style>\n",
              "<table border=\"1\" class=\"dataframe\">\n",
              "  <thead>\n",
              "    <tr style=\"text-align: right;\">\n",
              "      <th></th>\n",
              "      <th>id</th>\n",
              "      <th>comment_text</th>\n",
              "      <th>toxic</th>\n",
              "      <th>severe_toxic</th>\n",
              "      <th>obscene</th>\n",
              "      <th>threat</th>\n",
              "      <th>insult</th>\n",
              "      <th>identity_hate</th>\n",
              "    </tr>\n",
              "  </thead>\n",
              "  <tbody>\n",
              "    <tr>\n",
              "      <th>0</th>\n",
              "      <td>0000997932d777bf</td>\n",
              "      <td>Explanation\\nWhy the edits made under my usern...</td>\n",
              "      <td>0</td>\n",
              "      <td>0</td>\n",
              "      <td>0</td>\n",
              "      <td>0</td>\n",
              "      <td>0</td>\n",
              "      <td>0</td>\n",
              "    </tr>\n",
              "    <tr>\n",
              "      <th>1</th>\n",
              "      <td>000103f0d9cfb60f</td>\n",
              "      <td>D'aww! He matches this background colour I'm s...</td>\n",
              "      <td>0</td>\n",
              "      <td>0</td>\n",
              "      <td>0</td>\n",
              "      <td>0</td>\n",
              "      <td>0</td>\n",
              "      <td>0</td>\n",
              "    </tr>\n",
              "    <tr>\n",
              "      <th>2</th>\n",
              "      <td>000113f07ec002fd</td>\n",
              "      <td>Hey man, I'm really not trying to edit war. It...</td>\n",
              "      <td>0</td>\n",
              "      <td>0</td>\n",
              "      <td>0</td>\n",
              "      <td>0</td>\n",
              "      <td>0</td>\n",
              "      <td>0</td>\n",
              "    </tr>\n",
              "    <tr>\n",
              "      <th>3</th>\n",
              "      <td>0001b41b1c6bb37e</td>\n",
              "      <td>\"\\nMore\\nI can't make any real suggestions on ...</td>\n",
              "      <td>0</td>\n",
              "      <td>0</td>\n",
              "      <td>0</td>\n",
              "      <td>0</td>\n",
              "      <td>0</td>\n",
              "      <td>0</td>\n",
              "    </tr>\n",
              "    <tr>\n",
              "      <th>4</th>\n",
              "      <td>0001d958c54c6e35</td>\n",
              "      <td>You, sir, are my hero. Any chance you remember...</td>\n",
              "      <td>0</td>\n",
              "      <td>0</td>\n",
              "      <td>0</td>\n",
              "      <td>0</td>\n",
              "      <td>0</td>\n",
              "      <td>0</td>\n",
              "    </tr>\n",
              "  </tbody>\n",
              "</table>\n",
              "</div>"
            ],
            "text/plain": [
              "                 id  ... identity_hate\n",
              "0  0000997932d777bf  ...             0\n",
              "1  000103f0d9cfb60f  ...             0\n",
              "2  000113f07ec002fd  ...             0\n",
              "3  0001b41b1c6bb37e  ...             0\n",
              "4  0001d958c54c6e35  ...             0\n",
              "\n",
              "[5 rows x 8 columns]"
            ]
          },
          "metadata": {
            "tags": []
          },
          "execution_count": 154
        }
      ]
    },
    {
      "cell_type": "code",
      "metadata": {
        "id": "Uaq7vjR1G_JF"
      },
      "source": [
        "df['len'] = df['comment_text'].str.len()"
      ],
      "execution_count": 155,
      "outputs": []
    },
    {
      "cell_type": "code",
      "metadata": {
        "colab": {
          "base_uri": "https://localhost:8080/",
          "height": 422
        },
        "id": "_7CeObqSHGs0",
        "outputId": "7592d005-0d06-41a3-b779-ef1821bd877c"
      },
      "source": [
        "pd.set_option('display.max_colwidth', -1)\r\n",
        "df.head()"
      ],
      "execution_count": null,
      "outputs": [
        {
          "output_type": "stream",
          "text": [
            "/usr/local/lib/python3.6/dist-packages/ipykernel_launcher.py:1: FutureWarning: Passing a negative integer is deprecated in version 1.0 and will not be supported in future version. Instead, use None to not limit the column width.\n",
            "  \"\"\"Entry point for launching an IPython kernel.\n"
          ],
          "name": "stderr"
        },
        {
          "output_type": "execute_result",
          "data": {
            "text/html": [
              "<div>\n",
              "<style scoped>\n",
              "    .dataframe tbody tr th:only-of-type {\n",
              "        vertical-align: middle;\n",
              "    }\n",
              "\n",
              "    .dataframe tbody tr th {\n",
              "        vertical-align: top;\n",
              "    }\n",
              "\n",
              "    .dataframe thead th {\n",
              "        text-align: right;\n",
              "    }\n",
              "</style>\n",
              "<table border=\"1\" class=\"dataframe\">\n",
              "  <thead>\n",
              "    <tr style=\"text-align: right;\">\n",
              "      <th></th>\n",
              "      <th>id</th>\n",
              "      <th>comment_text</th>\n",
              "      <th>toxic</th>\n",
              "      <th>severe_toxic</th>\n",
              "      <th>obscene</th>\n",
              "      <th>threat</th>\n",
              "      <th>insult</th>\n",
              "      <th>identity_hate</th>\n",
              "      <th>len</th>\n",
              "    </tr>\n",
              "  </thead>\n",
              "  <tbody>\n",
              "    <tr>\n",
              "      <th>0</th>\n",
              "      <td>0000997932d777bf</td>\n",
              "      <td>Explanation\\nWhy the edits made under my username Hardcore Metallica Fan were reverted? They weren't vandalisms, just closure on some GAs after I voted at New York Dolls FAC. And please don't remove the template from the talk page since I'm retired now.89.205.38.27</td>\n",
              "      <td>0</td>\n",
              "      <td>0</td>\n",
              "      <td>0</td>\n",
              "      <td>0</td>\n",
              "      <td>0</td>\n",
              "      <td>0</td>\n",
              "      <td>264</td>\n",
              "    </tr>\n",
              "    <tr>\n",
              "      <th>1</th>\n",
              "      <td>000103f0d9cfb60f</td>\n",
              "      <td>D'aww! He matches this background colour I'm seemingly stuck with. Thanks.  (talk) 21:51, January 11, 2016 (UTC)</td>\n",
              "      <td>0</td>\n",
              "      <td>0</td>\n",
              "      <td>0</td>\n",
              "      <td>0</td>\n",
              "      <td>0</td>\n",
              "      <td>0</td>\n",
              "      <td>112</td>\n",
              "    </tr>\n",
              "    <tr>\n",
              "      <th>2</th>\n",
              "      <td>000113f07ec002fd</td>\n",
              "      <td>Hey man, I'm really not trying to edit war. It's just that this guy is constantly removing relevant information and talking to me through edits instead of my talk page. He seems to care more about the formatting than the actual info.</td>\n",
              "      <td>0</td>\n",
              "      <td>0</td>\n",
              "      <td>0</td>\n",
              "      <td>0</td>\n",
              "      <td>0</td>\n",
              "      <td>0</td>\n",
              "      <td>233</td>\n",
              "    </tr>\n",
              "    <tr>\n",
              "      <th>3</th>\n",
              "      <td>0001b41b1c6bb37e</td>\n",
              "      <td>\"\\nMore\\nI can't make any real suggestions on improvement - I wondered if the section statistics should be later on, or a subsection of \"\"types of accidents\"\"  -I think the references may need tidying so that they are all in the exact same format ie date format etc. I can do that later on, if no-one else does first - if you have any preferences for formatting style on references or want to do it yourself please let me know.\\n\\nThere appears to be a backlog on articles for review so I guess there may be a delay until a reviewer turns up. It's listed in the relevant form eg Wikipedia:Good_article_nominations#Transport  \"</td>\n",
              "      <td>0</td>\n",
              "      <td>0</td>\n",
              "      <td>0</td>\n",
              "      <td>0</td>\n",
              "      <td>0</td>\n",
              "      <td>0</td>\n",
              "      <td>622</td>\n",
              "    </tr>\n",
              "    <tr>\n",
              "      <th>4</th>\n",
              "      <td>0001d958c54c6e35</td>\n",
              "      <td>You, sir, are my hero. Any chance you remember what page that's on?</td>\n",
              "      <td>0</td>\n",
              "      <td>0</td>\n",
              "      <td>0</td>\n",
              "      <td>0</td>\n",
              "      <td>0</td>\n",
              "      <td>0</td>\n",
              "      <td>67</td>\n",
              "    </tr>\n",
              "  </tbody>\n",
              "</table>\n",
              "</div>"
            ],
            "text/plain": [
              "                 id  ...  len\n",
              "0  0000997932d777bf  ...  264\n",
              "1  000103f0d9cfb60f  ...  112\n",
              "2  000113f07ec002fd  ...  233\n",
              "3  0001b41b1c6bb37e  ...  622\n",
              "4  0001d958c54c6e35  ...  67 \n",
              "\n",
              "[5 rows x 9 columns]"
            ]
          },
          "metadata": {
            "tags": []
          },
          "execution_count": 7
        }
      ]
    },
    {
      "cell_type": "code",
      "metadata": {
        "colab": {
          "base_uri": "https://localhost:8080/"
        },
        "id": "goBsawpacnVB",
        "outputId": "48d28768-cf2b-4a5c-99c1-efc620176d54"
      },
      "source": [
        "sum(df.duplicated())"
      ],
      "execution_count": null,
      "outputs": [
        {
          "output_type": "execute_result",
          "data": {
            "text/plain": [
              "0"
            ]
          },
          "metadata": {
            "tags": []
          },
          "execution_count": 8
        }
      ]
    },
    {
      "cell_type": "markdown",
      "metadata": {
        "id": "kPZhETqhb0r3"
      },
      "source": [
        "# EDA"
      ]
    },
    {
      "cell_type": "code",
      "metadata": {
        "colab": {
          "base_uri": "https://localhost:8080/"
        },
        "id": "BieJjKjrCkLa",
        "outputId": "576c26b2-1aa9-4b4c-e1b1-32390e2581ec"
      },
      "source": [
        "df[df['toxic']==1]['comment_text'].head()"
      ],
      "execution_count": null,
      "outputs": [
        {
          "output_type": "execute_result",
          "data": {
            "text/plain": [
              "6     COCKSUCKER BEFORE YOU PISS AROUND ON MY WORK                                                                                                                                                                                                                                                                                                                                                                                                                                                                                                                                                                                                                                          \n",
              "12    Hey... what is it..\\n@ | talk .\\nWhat is it... an exclusive group of some WP TALIBANS...who are good at destroying, self-appointed purist who GANG UP any one who asks them questions abt their ANTI-SOCIAL and DESTRUCTIVE (non)-contribution at WP?\\n\\nAsk Sityush to clean up his behavior than issue me nonsensical warnings...                                                                                                                                                                                                                                                                                                                                                   \n",
              "16    Bye! \\n\\nDon't look, come or think of comming back! Tosser.                                                                                                                                                                                                                                                                                                                                                                                                                                                                                                                                                                                                                           \n",
              "42    You are gay or antisemmitian? \\n\\nArchangel WHite Tiger\\n\\nMeow! Greetingshhh!\\n\\nUh, there are two ways, why you do erased my comment about WW2, that holocaust was brutally slaying of Jews and not gays/Gypsys/Slavs/anyone...\\n\\n1 - If you are anti-semitian, than shave your head bald and go to the skinhead meetings!\\n\\n2 - If you doubt words of the Bible, that homosexuality is a deadly sin, make a pentagram tatoo on your forehead go to the satanistic masses with your gay pals!\\n\\n3 - First and last warning, you fucking gay - I won't appreciate if any more nazi shwain would write in my page! I don't wish to talk to you anymore!\\n\\nBeware of the Dark Side!\n",
              "43    FUCK YOUR FILTHY MOTHER IN THE ASS, DRY!                                                                                                                                                                                                                                                                                                                                                                                                                                                                                                                                                                                                                                              \n",
              "Name: comment_text, dtype: object"
            ]
          },
          "metadata": {
            "tags": []
          },
          "execution_count": 9
        }
      ]
    },
    {
      "cell_type": "code",
      "metadata": {
        "colab": {
          "base_uri": "https://localhost:8080/"
        },
        "id": "SsDpfStCCkUY",
        "outputId": "7a3da20d-9306-4e4d-9021-8b86cadb96d9"
      },
      "source": [
        "df[df['severe_toxic']==1]['comment_text'].head()"
      ],
      "execution_count": null,
      "outputs": [
        {
          "output_type": "execute_result",
          "data": {
            "text/plain": [
              "6      COCKSUCKER BEFORE YOU PISS AROUND ON MY WORK                                             \n",
              "55     Stupid peace of shit stop deleting my stuff asshole go die and fall in a hole go to hell!\n",
              "181    you are a stupid fuck \\n\\nand your mother's cunt stinks                                  \n",
              "442    Hi \\n\\nIm a fucking bitch.\\n\\n50.180.208.181                                             \n",
              "579    What a motherfucking piece of crap those fuckheads for blocking us!                      \n",
              "Name: comment_text, dtype: object"
            ]
          },
          "metadata": {
            "tags": []
          },
          "execution_count": 8
        }
      ]
    },
    {
      "cell_type": "code",
      "metadata": {
        "colab": {
          "base_uri": "https://localhost:8080/"
        },
        "id": "iZim8NVsCkaU",
        "outputId": "b94fce4f-caa6-43eb-8b53-d8e5f0f60e49"
      },
      "source": [
        "df[df['obscene']==1]['comment_text'].head()"
      ],
      "execution_count": null,
      "outputs": [
        {
          "output_type": "execute_result",
          "data": {
            "text/plain": [
              "6     COCKSUCKER BEFORE YOU PISS AROUND ON MY WORK                                                                                                                                                                                                                                                                                                                                                                                                                                                                                                                                                                                                                                          \n",
              "42    You are gay or antisemmitian? \\n\\nArchangel WHite Tiger\\n\\nMeow! Greetingshhh!\\n\\nUh, there are two ways, why you do erased my comment about WW2, that holocaust was brutally slaying of Jews and not gays/Gypsys/Slavs/anyone...\\n\\n1 - If you are anti-semitian, than shave your head bald and go to the skinhead meetings!\\n\\n2 - If you doubt words of the Bible, that homosexuality is a deadly sin, make a pentagram tatoo on your forehead go to the satanistic masses with your gay pals!\\n\\n3 - First and last warning, you fucking gay - I won't appreciate if any more nazi shwain would write in my page! I don't wish to talk to you anymore!\\n\\nBeware of the Dark Side!\n",
              "43    FUCK YOUR FILTHY MOTHER IN THE ASS, DRY!                                                                                                                                                                                                                                                                                                                                                                                                                                                                                                                                                                                                                                              \n",
              "51    GET FUCKED UP. GET FUCKEEED UP.  GOT A DRINK THAT YOU CANT PUT DOWN???/ GET FUCK UP GET FUCKED UP.  I'M FUCKED UP RIGHT NOW!                                                                                                                                                                                                                                                                                                                                                                                                                                                                                                                                                          \n",
              "55    Stupid peace of shit stop deleting my stuff asshole go die and fall in a hole go to hell!                                                                                                                                                                                                                                                                                                                                                                                                                                                                                                                                                                                             \n",
              "Name: comment_text, dtype: object"
            ]
          },
          "metadata": {
            "tags": []
          },
          "execution_count": 9
        }
      ]
    },
    {
      "cell_type": "code",
      "metadata": {
        "colab": {
          "base_uri": "https://localhost:8080/"
        },
        "id": "Q0JqkOegCkd4",
        "outputId": "433d66a9-5297-496b-da03-2779bc27949c"
      },
      "source": [
        "df[df['threat']==1]['comment_text'].head()"
      ],
      "execution_count": null,
      "outputs": [
        {
          "output_type": "execute_result",
          "data": {
            "text/plain": [
              "79      Hi! I am back again!\\nLast warning!\\nStop undoing my edits or die!                                                                                    \n",
              "176     I think that your a Fagget get a oife and burn in Hell I hate you 'm sorry we cant have any more sex i'm running out of conndoms                      \n",
              "600     I'm also a sock puppet of this account...SUPRISE!!\\n-sincerely,\\n            The man that will track you down from the Internet and kill you          \n",
              "802     Fuck you, Smith. Please have me notified when you die. I want to dance on your grave.                                                                 \n",
              "1017    WOULDN'T BE THE FIRST TIME BITCH. FUCK YOU I'LL FIND OUT WHERE YOU LIVE, SODOMIZE YOUR WIFE AND THEN BURN YOUR HOUSE DOWN. FUCK YOU YOU FUCKING QUEER.\n",
              "Name: comment_text, dtype: object"
            ]
          },
          "metadata": {
            "tags": []
          },
          "execution_count": 10
        }
      ]
    },
    {
      "cell_type": "code",
      "metadata": {
        "colab": {
          "base_uri": "https://localhost:8080/"
        },
        "id": "b0lQJwHZCkhL",
        "outputId": "e53e2dff-bf83-4d01-d966-086bf9ea21a3"
      },
      "source": [
        "df[df['insult']==1]['comment_text'].head()"
      ],
      "execution_count": null,
      "outputs": [
        {
          "output_type": "execute_result",
          "data": {
            "text/plain": [
              "6     COCKSUCKER BEFORE YOU PISS AROUND ON MY WORK                                                                                                                                                                                                                                                                                                                                                                                                                                                                                                                                                                                                                                          \n",
              "42    You are gay or antisemmitian? \\n\\nArchangel WHite Tiger\\n\\nMeow! Greetingshhh!\\n\\nUh, there are two ways, why you do erased my comment about WW2, that holocaust was brutally slaying of Jews and not gays/Gypsys/Slavs/anyone...\\n\\n1 - If you are anti-semitian, than shave your head bald and go to the skinhead meetings!\\n\\n2 - If you doubt words of the Bible, that homosexuality is a deadly sin, make a pentagram tatoo on your forehead go to the satanistic masses with your gay pals!\\n\\n3 - First and last warning, you fucking gay - I won't appreciate if any more nazi shwain would write in my page! I don't wish to talk to you anymore!\\n\\nBeware of the Dark Side!\n",
              "43    FUCK YOUR FILTHY MOTHER IN THE ASS, DRY!                                                                                                                                                                                                                                                                                                                                                                                                                                                                                                                                                                                                                                              \n",
              "55    Stupid peace of shit stop deleting my stuff asshole go die and fall in a hole go to hell!                                                                                                                                                                                                                                                                                                                                                                                                                                                                                                                                                                                             \n",
              "56    =Tony Sidaway is obviously a fistfuckee. He loves an arm up his ass.                                                                                                                                                                                                                                                                                                                                                                                                                                                                                                                                                                                                                  \n",
              "Name: comment_text, dtype: object"
            ]
          },
          "metadata": {
            "tags": []
          },
          "execution_count": 11
        }
      ]
    },
    {
      "cell_type": "code",
      "metadata": {
        "colab": {
          "base_uri": "https://localhost:8080/"
        },
        "id": "ZbUIwRVCCkjz",
        "outputId": "3b4b1586-efdb-4be7-fb53-7559e3b2407f"
      },
      "source": [
        "df[df['identity_hate']==1]['comment_text'].head()"
      ],
      "execution_count": null,
      "outputs": [
        {
          "output_type": "execute_result",
          "data": {
            "text/plain": [
              "42     You are gay or antisemmitian? \\n\\nArchangel WHite Tiger\\n\\nMeow! Greetingshhh!\\n\\nUh, there are two ways, why you do erased my comment about WW2, that holocaust was brutally slaying of Jews and not gays/Gypsys/Slavs/anyone...\\n\\n1 - If you are anti-semitian, than shave your head bald and go to the skinhead meetings!\\n\\n2 - If you doubt words of the Bible, that homosexuality is a deadly sin, make a pentagram tatoo on your forehead go to the satanistic masses with your gay pals!\\n\\n3 - First and last warning, you fucking gay - I won't appreciate if any more nazi shwain would write in my page! I don't wish to talk to you anymore!\\n\\nBeware of the Dark Side!\n",
              "105    A pair of jew-hating weiner nazi schmucks.                                                                                                                                                                                                                                                                                                                                                                                                                                                                                                                                                                                                                                            \n",
              "176    I think that your a Fagget get a oife and burn in Hell I hate you 'm sorry we cant have any more sex i'm running out of conndoms                                                                                                                                                                                                                                                                                                                                                                                                                                                                                                                                                      \n",
              "218    Kill all niggers. \\n\\nI have hard, that others have said this.. should this be included? That racists sometimes say these.                                                                                                                                                                                                                                                                                                                                                                                                                                                                                                                                                            \n",
              "238    u r a tw@ fuck off u gay boy.U r smelly.Fuck ur mum poopie                                                                                                                                                                                                                                                                                                                                                                                                                                                                                                                                                                                                                            \n",
              "Name: comment_text, dtype: object"
            ]
          },
          "metadata": {
            "tags": []
          },
          "execution_count": 12
        }
      ]
    },
    {
      "cell_type": "code",
      "metadata": {
        "id": "iLgxV_jYCkmx"
      },
      "source": [
        ""
      ],
      "execution_count": null,
      "outputs": []
    },
    {
      "cell_type": "code",
      "metadata": {
        "colab": {
          "base_uri": "https://localhost:8080/"
        },
        "id": "P708kTPQHQkV",
        "outputId": "231c1b86-2b31-4749-e6e8-ad01e4e29d41"
      },
      "source": [
        "print(df.shape)\r\n",
        "n = df.shape[0]"
      ],
      "execution_count": null,
      "outputs": [
        {
          "output_type": "stream",
          "text": [
            "(159571, 9)\n"
          ],
          "name": "stdout"
        }
      ]
    },
    {
      "cell_type": "code",
      "metadata": {
        "id": "S60MZDAOKXDM"
      },
      "source": [
        "tags = ['toxic', 'severe_toxic','obscene', 'threat', 'insult', 'identity_hate']\r\n"
      ],
      "execution_count": null,
      "outputs": []
    },
    {
      "cell_type": "markdown",
      "metadata": {
        "id": "G8hgUbeWLdXu"
      },
      "source": [
        "class toxic appear max no. of times with 9% of data\r\n",
        "class severe toxic min no. of times with .9% of data\r\n"
      ]
    },
    {
      "cell_type": "code",
      "metadata": {
        "id": "0vio6usSIfjk"
      },
      "source": [
        "df['Total_Tags'] = df['toxic'] + df['severe_toxic'] + df['obscene'] + df['threat'] + df['insult'] + df['identity_hate']"
      ],
      "execution_count": null,
      "outputs": []
    },
    {
      "cell_type": "code",
      "metadata": {
        "colab": {
          "base_uri": "https://localhost:8080/",
          "height": 402
        },
        "id": "dgQ1T9pIIjHX",
        "outputId": "521a33b9-e175-433a-8dfd-b2ac3ee37e57"
      },
      "source": [
        "df.head()"
      ],
      "execution_count": null,
      "outputs": [
        {
          "output_type": "execute_result",
          "data": {
            "text/html": [
              "<div>\n",
              "<style scoped>\n",
              "    .dataframe tbody tr th:only-of-type {\n",
              "        vertical-align: middle;\n",
              "    }\n",
              "\n",
              "    .dataframe tbody tr th {\n",
              "        vertical-align: top;\n",
              "    }\n",
              "\n",
              "    .dataframe thead th {\n",
              "        text-align: right;\n",
              "    }\n",
              "</style>\n",
              "<table border=\"1\" class=\"dataframe\">\n",
              "  <thead>\n",
              "    <tr style=\"text-align: right;\">\n",
              "      <th></th>\n",
              "      <th>id</th>\n",
              "      <th>comment_text</th>\n",
              "      <th>toxic</th>\n",
              "      <th>severe_toxic</th>\n",
              "      <th>obscene</th>\n",
              "      <th>threat</th>\n",
              "      <th>insult</th>\n",
              "      <th>identity_hate</th>\n",
              "      <th>len</th>\n",
              "      <th>Total_Tags</th>\n",
              "    </tr>\n",
              "  </thead>\n",
              "  <tbody>\n",
              "    <tr>\n",
              "      <th>0</th>\n",
              "      <td>0000997932d777bf</td>\n",
              "      <td>Explanation\\nWhy the edits made under my username Hardcore Metallica Fan were reverted? They weren't vandalisms, just closure on some GAs after I voted at New York Dolls FAC. And please don't remove the template from the talk page since I'm retired now.89.205.38.27</td>\n",
              "      <td>0</td>\n",
              "      <td>0</td>\n",
              "      <td>0</td>\n",
              "      <td>0</td>\n",
              "      <td>0</td>\n",
              "      <td>0</td>\n",
              "      <td>264</td>\n",
              "      <td>0</td>\n",
              "    </tr>\n",
              "    <tr>\n",
              "      <th>1</th>\n",
              "      <td>000103f0d9cfb60f</td>\n",
              "      <td>D'aww! He matches this background colour I'm seemingly stuck with. Thanks.  (talk) 21:51, January 11, 2016 (UTC)</td>\n",
              "      <td>0</td>\n",
              "      <td>0</td>\n",
              "      <td>0</td>\n",
              "      <td>0</td>\n",
              "      <td>0</td>\n",
              "      <td>0</td>\n",
              "      <td>112</td>\n",
              "      <td>0</td>\n",
              "    </tr>\n",
              "    <tr>\n",
              "      <th>2</th>\n",
              "      <td>000113f07ec002fd</td>\n",
              "      <td>Hey man, I'm really not trying to edit war. It's just that this guy is constantly removing relevant information and talking to me through edits instead of my talk page. He seems to care more about the formatting than the actual info.</td>\n",
              "      <td>0</td>\n",
              "      <td>0</td>\n",
              "      <td>0</td>\n",
              "      <td>0</td>\n",
              "      <td>0</td>\n",
              "      <td>0</td>\n",
              "      <td>233</td>\n",
              "      <td>0</td>\n",
              "    </tr>\n",
              "    <tr>\n",
              "      <th>3</th>\n",
              "      <td>0001b41b1c6bb37e</td>\n",
              "      <td>\"\\nMore\\nI can't make any real suggestions on improvement - I wondered if the section statistics should be later on, or a subsection of \"\"types of accidents\"\"  -I think the references may need tidying so that they are all in the exact same format ie date format etc. I can do that later on, if no-one else does first - if you have any preferences for formatting style on references or want to do it yourself please let me know.\\n\\nThere appears to be a backlog on articles for review so I guess there may be a delay until a reviewer turns up. It's listed in the relevant form eg Wikipedia:Good_article_nominations#Transport  \"</td>\n",
              "      <td>0</td>\n",
              "      <td>0</td>\n",
              "      <td>0</td>\n",
              "      <td>0</td>\n",
              "      <td>0</td>\n",
              "      <td>0</td>\n",
              "      <td>622</td>\n",
              "      <td>0</td>\n",
              "    </tr>\n",
              "    <tr>\n",
              "      <th>4</th>\n",
              "      <td>0001d958c54c6e35</td>\n",
              "      <td>You, sir, are my hero. Any chance you remember what page that's on?</td>\n",
              "      <td>0</td>\n",
              "      <td>0</td>\n",
              "      <td>0</td>\n",
              "      <td>0</td>\n",
              "      <td>0</td>\n",
              "      <td>0</td>\n",
              "      <td>67</td>\n",
              "      <td>0</td>\n",
              "    </tr>\n",
              "  </tbody>\n",
              "</table>\n",
              "</div>"
            ],
            "text/plain": [
              "                 id  ... Total_Tags\n",
              "0  0000997932d777bf  ...  0        \n",
              "1  000103f0d9cfb60f  ...  0        \n",
              "2  000113f07ec002fd  ...  0        \n",
              "3  0001b41b1c6bb37e  ...  0        \n",
              "4  0001d958c54c6e35  ...  0        \n",
              "\n",
              "[5 rows x 10 columns]"
            ]
          },
          "metadata": {
            "tags": []
          },
          "execution_count": 13
        }
      ]
    },
    {
      "cell_type": "code",
      "metadata": {
        "colab": {
          "base_uri": "https://localhost:8080/"
        },
        "id": "TEFTEV06L6Q1",
        "outputId": "24b48935-c461-4950-d421-d361f934a3e7"
      },
      "source": [
        "print('safe comments: ',df[df['Total_Tags'] == 0].shape[0]/n*100, '%')"
      ],
      "execution_count": null,
      "outputs": [
        {
          "output_type": "stream",
          "text": [
            "safe comments:  89.83211235124176 %\n"
          ],
          "name": "stdout"
        }
      ]
    },
    {
      "cell_type": "code",
      "metadata": {
        "colab": {
          "base_uri": "https://localhost:8080/",
          "height": 277
        },
        "id": "JqPFhOYMcbuS",
        "outputId": "43623494-fc2e-4c17-d85c-d85a0f2d1261"
      },
      "source": [
        "df.describe()"
      ],
      "execution_count": null,
      "outputs": [
        {
          "output_type": "execute_result",
          "data": {
            "text/html": [
              "<div>\n",
              "<style scoped>\n",
              "    .dataframe tbody tr th:only-of-type {\n",
              "        vertical-align: middle;\n",
              "    }\n",
              "\n",
              "    .dataframe tbody tr th {\n",
              "        vertical-align: top;\n",
              "    }\n",
              "\n",
              "    .dataframe thead th {\n",
              "        text-align: right;\n",
              "    }\n",
              "</style>\n",
              "<table border=\"1\" class=\"dataframe\">\n",
              "  <thead>\n",
              "    <tr style=\"text-align: right;\">\n",
              "      <th></th>\n",
              "      <th>toxic</th>\n",
              "      <th>severe_toxic</th>\n",
              "      <th>obscene</th>\n",
              "      <th>threat</th>\n",
              "      <th>insult</th>\n",
              "      <th>identity_hate</th>\n",
              "      <th>len</th>\n",
              "      <th>Total_Tags</th>\n",
              "    </tr>\n",
              "  </thead>\n",
              "  <tbody>\n",
              "    <tr>\n",
              "      <th>count</th>\n",
              "      <td>159571.000000</td>\n",
              "      <td>159571.000000</td>\n",
              "      <td>159571.000000</td>\n",
              "      <td>159571.000000</td>\n",
              "      <td>159571.000000</td>\n",
              "      <td>159571.000000</td>\n",
              "      <td>159571.000000</td>\n",
              "      <td>159571.000000</td>\n",
              "    </tr>\n",
              "    <tr>\n",
              "      <th>mean</th>\n",
              "      <td>0.095844</td>\n",
              "      <td>0.009996</td>\n",
              "      <td>0.052948</td>\n",
              "      <td>0.002996</td>\n",
              "      <td>0.049364</td>\n",
              "      <td>0.008805</td>\n",
              "      <td>394.073221</td>\n",
              "      <td>0.219952</td>\n",
              "    </tr>\n",
              "    <tr>\n",
              "      <th>std</th>\n",
              "      <td>0.294379</td>\n",
              "      <td>0.099477</td>\n",
              "      <td>0.223931</td>\n",
              "      <td>0.054650</td>\n",
              "      <td>0.216627</td>\n",
              "      <td>0.093420</td>\n",
              "      <td>590.720282</td>\n",
              "      <td>0.748260</td>\n",
              "    </tr>\n",
              "    <tr>\n",
              "      <th>min</th>\n",
              "      <td>0.000000</td>\n",
              "      <td>0.000000</td>\n",
              "      <td>0.000000</td>\n",
              "      <td>0.000000</td>\n",
              "      <td>0.000000</td>\n",
              "      <td>0.000000</td>\n",
              "      <td>6.000000</td>\n",
              "      <td>0.000000</td>\n",
              "    </tr>\n",
              "    <tr>\n",
              "      <th>25%</th>\n",
              "      <td>0.000000</td>\n",
              "      <td>0.000000</td>\n",
              "      <td>0.000000</td>\n",
              "      <td>0.000000</td>\n",
              "      <td>0.000000</td>\n",
              "      <td>0.000000</td>\n",
              "      <td>96.000000</td>\n",
              "      <td>0.000000</td>\n",
              "    </tr>\n",
              "    <tr>\n",
              "      <th>50%</th>\n",
              "      <td>0.000000</td>\n",
              "      <td>0.000000</td>\n",
              "      <td>0.000000</td>\n",
              "      <td>0.000000</td>\n",
              "      <td>0.000000</td>\n",
              "      <td>0.000000</td>\n",
              "      <td>205.000000</td>\n",
              "      <td>0.000000</td>\n",
              "    </tr>\n",
              "    <tr>\n",
              "      <th>75%</th>\n",
              "      <td>0.000000</td>\n",
              "      <td>0.000000</td>\n",
              "      <td>0.000000</td>\n",
              "      <td>0.000000</td>\n",
              "      <td>0.000000</td>\n",
              "      <td>0.000000</td>\n",
              "      <td>435.000000</td>\n",
              "      <td>0.000000</td>\n",
              "    </tr>\n",
              "    <tr>\n",
              "      <th>max</th>\n",
              "      <td>1.000000</td>\n",
              "      <td>1.000000</td>\n",
              "      <td>1.000000</td>\n",
              "      <td>1.000000</td>\n",
              "      <td>1.000000</td>\n",
              "      <td>1.000000</td>\n",
              "      <td>5000.000000</td>\n",
              "      <td>6.000000</td>\n",
              "    </tr>\n",
              "  </tbody>\n",
              "</table>\n",
              "</div>"
            ],
            "text/plain": [
              "               toxic   severe_toxic  ...            len     Total_Tags\n",
              "count  159571.000000  159571.000000  ...  159571.000000  159571.000000\n",
              "mean   0.095844       0.009996       ...  394.073221     0.219952     \n",
              "std    0.294379       0.099477       ...  590.720282     0.748260     \n",
              "min    0.000000       0.000000       ...  6.000000       0.000000     \n",
              "25%    0.000000       0.000000       ...  96.000000      0.000000     \n",
              "50%    0.000000       0.000000       ...  205.000000     0.000000     \n",
              "75%    0.000000       0.000000       ...  435.000000     0.000000     \n",
              "max    1.000000       1.000000       ...  5000.000000    6.000000     \n",
              "\n",
              "[8 rows x 8 columns]"
            ]
          },
          "metadata": {
            "tags": []
          },
          "execution_count": 18
        }
      ]
    },
    {
      "cell_type": "code",
      "metadata": {
        "colab": {
          "base_uri": "https://localhost:8080/",
          "height": 335
        },
        "id": "3VUR4HRTMQXj",
        "outputId": "350e4552-360c-4987-8173-c94c523ba3f4"
      },
      "source": [
        "(df.isna().sum()/n*100).reset_index()"
      ],
      "execution_count": null,
      "outputs": [
        {
          "output_type": "execute_result",
          "data": {
            "text/html": [
              "<div>\n",
              "<style scoped>\n",
              "    .dataframe tbody tr th:only-of-type {\n",
              "        vertical-align: middle;\n",
              "    }\n",
              "\n",
              "    .dataframe tbody tr th {\n",
              "        vertical-align: top;\n",
              "    }\n",
              "\n",
              "    .dataframe thead th {\n",
              "        text-align: right;\n",
              "    }\n",
              "</style>\n",
              "<table border=\"1\" class=\"dataframe\">\n",
              "  <thead>\n",
              "    <tr style=\"text-align: right;\">\n",
              "      <th></th>\n",
              "      <th>index</th>\n",
              "      <th>0</th>\n",
              "    </tr>\n",
              "  </thead>\n",
              "  <tbody>\n",
              "    <tr>\n",
              "      <th>0</th>\n",
              "      <td>id</td>\n",
              "      <td>0.0</td>\n",
              "    </tr>\n",
              "    <tr>\n",
              "      <th>1</th>\n",
              "      <td>comment_text</td>\n",
              "      <td>0.0</td>\n",
              "    </tr>\n",
              "    <tr>\n",
              "      <th>2</th>\n",
              "      <td>toxic</td>\n",
              "      <td>0.0</td>\n",
              "    </tr>\n",
              "    <tr>\n",
              "      <th>3</th>\n",
              "      <td>severe_toxic</td>\n",
              "      <td>0.0</td>\n",
              "    </tr>\n",
              "    <tr>\n",
              "      <th>4</th>\n",
              "      <td>obscene</td>\n",
              "      <td>0.0</td>\n",
              "    </tr>\n",
              "    <tr>\n",
              "      <th>5</th>\n",
              "      <td>threat</td>\n",
              "      <td>0.0</td>\n",
              "    </tr>\n",
              "    <tr>\n",
              "      <th>6</th>\n",
              "      <td>insult</td>\n",
              "      <td>0.0</td>\n",
              "    </tr>\n",
              "    <tr>\n",
              "      <th>7</th>\n",
              "      <td>identity_hate</td>\n",
              "      <td>0.0</td>\n",
              "    </tr>\n",
              "    <tr>\n",
              "      <th>8</th>\n",
              "      <td>len</td>\n",
              "      <td>0.0</td>\n",
              "    </tr>\n",
              "    <tr>\n",
              "      <th>9</th>\n",
              "      <td>Total_Tags</td>\n",
              "      <td>0.0</td>\n",
              "    </tr>\n",
              "  </tbody>\n",
              "</table>\n",
              "</div>"
            ],
            "text/plain": [
              "           index    0\n",
              "0  id             0.0\n",
              "1  comment_text   0.0\n",
              "2  toxic          0.0\n",
              "3  severe_toxic   0.0\n",
              "4  obscene        0.0\n",
              "5  threat         0.0\n",
              "6  insult         0.0\n",
              "7  identity_hate  0.0\n",
              "8  len            0.0\n",
              "9  Total_Tags     0.0"
            ]
          },
          "metadata": {
            "tags": []
          },
          "execution_count": 19
        }
      ]
    },
    {
      "cell_type": "code",
      "metadata": {
        "colab": {
          "base_uri": "https://localhost:8080/",
          "height": 721
        },
        "id": "VvpFJyIAMujh",
        "outputId": "bd6bf791-277d-4fa3-f78b-2a19b4d59e43"
      },
      "source": [
        "correlation = df[tags].corr()\r\n",
        "plt.figure(figsize=(12,12))\r\n",
        "sns.heatmap(correlation,annot= True)"
      ],
      "execution_count": null,
      "outputs": [
        {
          "output_type": "execute_result",
          "data": {
            "text/plain": [
              "<matplotlib.axes._subplots.AxesSubplot at 0x7f8a573cec50>"
            ]
          },
          "metadata": {
            "tags": []
          },
          "execution_count": 20
        },
        {
          "output_type": "display_data",
          "data": {
            "image/png": "[encoded data removed]",
            "text/plain": [
              "<Figure size 864x864 with 2 Axes>"
            ]
          },
          "metadata": {
            "tags": []
          }
        }
      ]
    },
    {
      "cell_type": "code",
      "metadata": {
        "id": "1Mv6ibcabQ0Y"
      },
      "source": [
        "from wordcloud import WordCloud ,STOPWORDS"
      ],
      "execution_count": null,
      "outputs": []
    },
    {
      "cell_type": "code",
      "metadata": {
        "id": "9FgmjJpkcwCl"
      },
      "source": [
        ""
      ],
      "execution_count": null,
      "outputs": []
    },
    {
      "cell_type": "code",
      "metadata": {
        "colab": {
          "base_uri": "https://localhost:8080/",
          "height": 607
        },
        "id": "zz_y1AMQdd-0",
        "outputId": "0fede902-8ce2-4034-9cad-1780e73f4e26"
      },
      "source": [
        "stopwords = set(STOPWORDS) \r\n",
        "for comment in df.comment_text:\r\n",
        "  comment_words = ''\r\n",
        "  com = str(comment)\r\n",
        "  tokens = com.split() \r\n",
        "      \r\n",
        "  # Converts each token into lowercase \r\n",
        "  for i in range(len(tokens)): \r\n",
        "    tokens[i] = tokens[i].lower()\r\n",
        "    comment_words += \" \".join(tokens)+\" \"\r\n",
        "  \r\n",
        "wordcloud = WordCloud(width = 800, height = 800, \r\n",
        "                background_color ='white', \r\n",
        "                stopwords = stopwords, \r\n",
        "                min_font_size = 10).generate(comment_words) \r\n",
        "  \r\n",
        "# plot the WordCloud image                        \r\n",
        "plt.figure(figsize = (8, 8), facecolor = None) \r\n",
        "plt.imshow(wordcloud) \r\n",
        "plt.axis(\"off\") \r\n",
        "plt.tight_layout(pad = 0) \r\n",
        "  \r\n",
        "plt.show() "
      ],
      "execution_count": null,
      "outputs": [
        {
          "output_type": "display_data",
          "data": {
            "image/png": "[encoded data removed]",
            "text/plain": [
              "<Figure size 576x576 with 1 Axes>"
            ]
          },
          "metadata": {
            "tags": []
          }
        }
      ]
    },
    {
      "cell_type": "code",
      "metadata": {
        "id": "kVVZ3CDQE1hj"
      },
      "source": [
        "def visualize_word(df):\r\n",
        "  stopwords = set(STOPWORDS) \r\n",
        "  for comment in df.comment_text:\r\n",
        "    comment_words = ''\r\n",
        "    com = str(comment)\r\n",
        "    tokens = com.split() \r\n",
        "        \r\n",
        "    # Converts each token into lowercase \r\n",
        "    for i in range(len(tokens)): \r\n",
        "      tokens[i] = tokens[i].lower()\r\n",
        "      comment_words += \" \".join(tokens)+\" \"\r\n",
        "    \r\n",
        "  wordcloud = WordCloud(width = 800, height = 800, \r\n",
        "                  background_color ='white', \r\n",
        "                  stopwords = stopwords, \r\n",
        "                  min_font_size = 10).generate(comment_words) \r\n",
        "    \r\n",
        "  # plot the WordCloud image                        \r\n",
        "  plt.figure(figsize = (8, 8), facecolor = None) \r\n",
        "  plt.imshow(wordcloud) \r\n",
        "  plt.axis(\"off\") \r\n",
        "  plt.tight_layout(pad = 0) \r\n",
        "    \r\n",
        "  plt.show() "
      ],
      "execution_count": null,
      "outputs": []
    },
    {
      "cell_type": "markdown",
      "metadata": {
        "id": "lzKqnLOnEDqa"
      },
      "source": [
        "Seeing the freq non toxic comment word"
      ]
    },
    {
      "cell_type": "code",
      "metadata": {
        "id": "cHn_7cWJ1vqO"
      },
      "source": [
        "#visualize_word(df[df['Total_Tags']==0])"
      ],
      "execution_count": null,
      "outputs": []
    },
    {
      "cell_type": "markdown",
      "metadata": {
        "id": "Gud7agADETIp"
      },
      "source": [
        "Seeing the freq toxic comments"
      ]
    },
    {
      "cell_type": "code",
      "metadata": {
        "id": "iYpANNi0EO4z"
      },
      "source": [
        "#visualize_word(df[df['toxic']==1])"
      ],
      "execution_count": null,
      "outputs": []
    },
    {
      "cell_type": "markdown",
      "metadata": {
        "id": "Y82KLBgVFD8Q"
      },
      "source": [
        "Seeing the freq toxic comments"
      ]
    },
    {
      "cell_type": "code",
      "metadata": {
        "id": "O7kvKYoUFD8S"
      },
      "source": [
        "#visualize_word(df[df['toxic']==1])"
      ],
      "execution_count": null,
      "outputs": []
    },
    {
      "cell_type": "markdown",
      "metadata": {
        "id": "8u-dGm4cFGLU"
      },
      "source": [
        "Seeing the freq severe_toxic comments"
      ]
    },
    {
      "cell_type": "code",
      "metadata": {
        "id": "A7kS4382FGLV"
      },
      "source": [
        "#visualize_word(df[df['severe_toxic']==1])"
      ],
      "execution_count": null,
      "outputs": []
    },
    {
      "cell_type": "markdown",
      "metadata": {
        "id": "KHVq-d5sFGbk"
      },
      "source": [
        "Seeing the freq obscene comments"
      ]
    },
    {
      "cell_type": "code",
      "metadata": {
        "id": "rF3hS8jeFGbk"
      },
      "source": [
        "#visualize_word(df[df['obscene']==1])"
      ],
      "execution_count": null,
      "outputs": []
    },
    {
      "cell_type": "markdown",
      "metadata": {
        "id": "Z5lpl6EEFGjA"
      },
      "source": [
        "Seeing the freq threat comments"
      ]
    },
    {
      "cell_type": "code",
      "metadata": {
        "id": "UlYZzfgxFGjB"
      },
      "source": [
        "#visualize_word(df[df['threat']==1])"
      ],
      "execution_count": null,
      "outputs": []
    },
    {
      "cell_type": "markdown",
      "metadata": {
        "id": "sFn5zJAzFGxE"
      },
      "source": [
        "Seeing the freq insult comments"
      ]
    },
    {
      "cell_type": "code",
      "metadata": {
        "id": "pTuJE_yOFGxE"
      },
      "source": [
        "#visualize_word(df[df['insult']==1])"
      ],
      "execution_count": null,
      "outputs": []
    },
    {
      "cell_type": "markdown",
      "metadata": {
        "id": "zuATNMPCJDEQ"
      },
      "source": [
        "Seeing the freq identity_hate comments"
      ]
    },
    {
      "cell_type": "code",
      "metadata": {
        "id": "Yi2izSAHJDEQ"
      },
      "source": [
        "#visualize_word(df[df['identity_hate']==1])"
      ],
      "execution_count": null,
      "outputs": []
    },
    {
      "cell_type": "code",
      "metadata": {
        "id": "QCsZ0qQPJHrJ"
      },
      "source": [
        ""
      ],
      "execution_count": null,
      "outputs": []
    },
    {
      "cell_type": "markdown",
      "metadata": {
        "id": "EInU1oPEf7MB"
      },
      "source": [
        "# TFIDF"
      ]
    },
    {
      "cell_type": "code",
      "metadata": {
        "colab": {
          "base_uri": "https://localhost:8080/"
        },
        "id": "u8nVLxiFgT96",
        "outputId": "88dfc50c-f0d2-43b2-c86d-9251d8e79a5a"
      },
      "source": [
        "import nltk\r\n",
        "nltk.download('stopwords')\r\n",
        "from nltk.corpus import stopwords\r\n",
        "from nltk.stem.porter import PorterStemmer\r\n",
        "import re\r\n",
        "ps = PorterStemmer()\r\n",
        "corpus = []"
      ],
      "execution_count": null,
      "outputs": [
        {
          "output_type": "stream",
          "text": [
            "[nltk_data] Downloading package stopwords to /root/nltk_data...\n",
            "[nltk_data]   Unzipping corpora/stopwords.zip.\n"
          ],
          "name": "stdout"
        }
      ]
    },
    {
      "cell_type": "code",
      "metadata": {
        "id": "_3Fqt2tghDr2"
      },
      "source": [
        "\r\n",
        "for i in range(0, len(df)):\r\n",
        "    review = re.sub('[^a-zA-Z]', ' ', df['comment_text'][i])\r\n",
        "    review = review.lower().split()\r\n",
        "    review = [ps.stem(word) for word in review if not word in stopwords.words('english') and len(word)<100]\r\n",
        "    review = ' '.join(review)\r\n",
        "    corpus.append(review)"
      ],
      "execution_count": null,
      "outputs": []
    },
    {
      "cell_type": "code",
      "metadata": {
        "colab": {
          "base_uri": "https://localhost:8080/"
        },
        "id": "0jgTI6RHWfwv",
        "outputId": "8fa71cb8-610d-44c2-e211-55a60f1a7bd6"
      },
      "source": [
        "print(corpus[0])"
      ],
      "execution_count": null,
      "outputs": [
        {
          "output_type": "stream",
          "text": [
            "explan edit made usernam hardcor metallica fan revert vandal closur ga vote new york doll fac pleas remov templat talk page sinc retir\n"
          ],
          "name": "stdout"
        }
      ]
    },
    {
      "cell_type": "code",
      "metadata": {
        "id": "gMAPPX0lVysq"
      },
      "source": [
        "from sklearn.feature_extraction.text import TfidfVectorizer\r\n",
        "from sklearn.model_selection import train_test_split\r\n",
        "from sklearn.naive_bayes import MultinomialNB\r\n",
        "from sklearn import metrics\r\n",
        "import numpy as np\r\n",
        "import itertools\r\n",
        "from sklearn.metrics import auc\r\n",
        "from sklearn.metrics import f1_score"
      ],
      "execution_count": null,
      "outputs": []
    },
    {
      "cell_type": "code",
      "metadata": {
        "id": "CSBQObdKWRhI"
      },
      "source": [
        "def plot_confusion_matrix(cm, classes,\r\n",
        "                          normalize=False,\r\n",
        "                          title='Confusion matrix',\r\n",
        "                          cmap=plt.cm.Blues):\r\n",
        "    \r\n",
        "    plt.imshow(cm, interpolation='nearest', cmap=cmap)\r\n",
        "    plt.title(title)\r\n",
        "    plt.colorbar()\r\n",
        "    tick_marks = np.arange(len(classes))\r\n",
        "    plt.xticks(tick_marks, classes, rotation=45)\r\n",
        "    plt.yticks(tick_marks, classes)\r\n",
        "\r\n",
        "    if normalize:\r\n",
        "        cm = cm.astype('float') / cm.sum(axis=1)[:, np.newaxis]\r\n",
        "        print(\"Normalized confusion matrix\")\r\n",
        "    else:\r\n",
        "        print('Confusion matrix, without normalization')\r\n",
        "\r\n",
        "    thresh = cm.max() / 2.\r\n",
        "    for i, j in itertools.product(range(cm.shape[0]), range(cm.shape[1])):\r\n",
        "        plt.text(j, i, cm[i, j],\r\n",
        "                 horizontalalignment=\"center\",\r\n",
        "                 color=\"white\" if cm[i, j] > thresh else \"black\")\r\n",
        "\r\n",
        "    plt.tight_layout()\r\n",
        "    plt.ylabel('True label')\r\n",
        "    plt.xlabel('Predicted label')"
      ],
      "execution_count": null,
      "outputs": []
    },
    {
      "cell_type": "code",
      "metadata": {
        "id": "mvRZS3NtiPdy"
      },
      "source": [
        "\r\n",
        "tfidf_v=TfidfVectorizer(max_features=2500,ngram_range=(1,3))\r\n",
        "X=tfidf_v.fit_transform(corpus).toarray()"
      ],
      "execution_count": null,
      "outputs": []
    },
    {
      "cell_type": "code",
      "metadata": {
        "colab": {
          "base_uri": "https://localhost:8080/"
        },
        "id": "BmLcajSlj1nP",
        "outputId": "e503797a-57eb-4024-fb13-03b10f4bc92b"
      },
      "source": [
        "y = df[tags]\r\n",
        "len(tfidf_v.get_feature_names())"
      ],
      "execution_count": null,
      "outputs": [
        {
          "output_type": "execute_result",
          "data": {
            "text/plain": [
              "2500"
            ]
          },
          "metadata": {
            "tags": []
          },
          "execution_count": 38
        }
      ]
    },
    {
      "cell_type": "code",
      "metadata": {
        "id": "8dRmCD_9j7tx"
      },
      "source": [
        "X_train, X_test, y_train, y_test = train_test_split(X, y, test_size=0.20, random_state=0)"
      ],
      "execution_count": null,
      "outputs": []
    },
    {
      "cell_type": "code",
      "metadata": {
        "colab": {
          "base_uri": "https://localhost:8080/",
          "height": 392
        },
        "id": "opaJfVg-kIDv",
        "outputId": "c3bdb0c3-7b3b-45e7-f074-a570459b835b"
      },
      "source": [
        "\r\n",
        "count_df_train = pd.DataFrame(X_train, columns=list(tfidf_v.get_feature_names()))\r\n",
        "count_df_test = pd.DataFrame(X_test, columns=list(tfidf_v.get_feature_names()))\r\n",
        "classifier=MultinomialNB()\r\n",
        "tag = 'toxic'\r\n",
        "print(count_df_train.shape)\r\n",
        "print(y_train[tag].shape)\r\n",
        "classifier.fit(count_df_train, y_train[tag])\r\n",
        "pred = classifier.predict(count_df_test)\r\n",
        "score = metrics.accuracy_score(y_test[tag], pred)\r\n",
        "\r\n",
        "print(\"accuracy:   %0.3f\" % score)\r\n",
        "print(\"f1 score:   %0.3f\" % f1_score(y_test[tag], pred))\r\n",
        "\r\n",
        "\r\n",
        "cm = metrics.confusion_matrix(y_test[tag], pred)\r\n",
        "plot_confusion_matrix(cm, classes=['not toxic', 'toxic'])"
      ],
      "execution_count": null,
      "outputs": [
        {
          "output_type": "stream",
          "text": [
            "(127656, 2500)\n",
            "(127656,)\n",
            "accuracy:   0.947\n",
            "f1 score:   0.650\n",
            "Confusion matrix, without normalization\n"
          ],
          "name": "stdout"
        },
        {
          "output_type": "display_data",
          "data": {
            "image/png": "[encoded data removed]",
            "text/plain": [
              "<Figure size 432x288 with 2 Axes>"
            ]
          },
          "metadata": {
            "tags": []
          }
        }
      ]
    },
    {
      "cell_type": "code",
      "metadata": {
        "id": "bWPFfPTUkIst"
      },
      "source": [
        ""
      ],
      "execution_count": null,
      "outputs": []
    },
    {
      "cell_type": "code",
      "metadata": {
        "id": "R2s5Qvl5kIwE"
      },
      "source": [
        ""
      ],
      "execution_count": null,
      "outputs": []
    },
    {
      "cell_type": "markdown",
      "metadata": {
        "id": "K-HTsExfWsXD"
      },
      "source": [
        "5000 dictionary"
      ]
    },
    {
      "cell_type": "code",
      "metadata": {
        "id": "MZ-tdkk0kIyl"
      },
      "source": [
        ""
      ],
      "execution_count": null,
      "outputs": []
    },
    {
      "cell_type": "code",
      "metadata": {
        "id": "wcmBOt4BkI1b"
      },
      "source": [
        ""
      ],
      "execution_count": null,
      "outputs": []
    },
    {
      "cell_type": "code",
      "metadata": {
        "id": "O4IBqahEkI4C"
      },
      "source": [
        ""
      ],
      "execution_count": null,
      "outputs": []
    },
    {
      "cell_type": "code",
      "metadata": {
        "id": "IkZ9gtufkI6_"
      },
      "source": [
        ""
      ],
      "execution_count": null,
      "outputs": []
    },
    {
      "cell_type": "markdown",
      "metadata": {
        "id": "tv1Ahvs8OTh2"
      },
      "source": [
        "\r\n",
        "\r\n",
        "```\r\n",
        "# This is formatted as code\r\n",
        "```\r\n",
        "\r\n",
        "# LSTM\r\n"
      ]
    },
    {
      "cell_type": "code",
      "metadata": {
        "colab": {
          "base_uri": "https://localhost:8080/"
        },
        "id": "4G8de7g_bb_i",
        "outputId": "a8ad858d-4148-45a2-a114-a92ef0d295bc"
      },
      "source": [
        "from nltk import word_tokenize\r\n",
        "import nltk\r\n",
        "import pandas as pd\r\n",
        "import numpy as np\r\n",
        "nltk.download('punkt')\r\n",
        "nltk.download('stopwords')\r\n",
        "df['tokenized_sents'] = df.apply(lambda row: word_tokenize(row['comment_text']), axis=1)\r\n",
        "#df.head()"
      ],
      "execution_count": 156,
      "outputs": [
        {
          "output_type": "stream",
          "text": [
            "[nltk_data] Downloading package punkt to /root/nltk_data...\n",
            "[nltk_data]   Package punkt is already up-to-date!\n",
            "[nltk_data] Downloading package stopwords to /root/nltk_data...\n",
            "[nltk_data]   Package stopwords is already up-to-date!\n"
          ],
          "name": "stdout"
        }
      ]
    },
    {
      "cell_type": "code",
      "metadata": {
        "id": "oYRpoF5kb_Ca"
      },
      "source": [
        "import re\r\n",
        "from nltk.corpus import stopwords\r\n",
        "stop = stopwords.words('english')"
      ],
      "execution_count": 157,
      "outputs": []
    },
    {
      "cell_type": "code",
      "metadata": {
        "id": "lIijN_u6b_F4"
      },
      "source": [
        "def preprocess(df):\r\n",
        "  df['preprocess'] = df.apply(lambda row: row['comment_text'].replace(\"\\n\",\" \"), axis=1) #removes new line character\r\n",
        "  df['preprocess'] = df.apply(lambda row: re.sub('[^A-Za-z\\' ]+', '',row['preprocess']).lower(), axis=1)\r\n",
        "  df['preprocess'] = df['preprocess'].apply(lambda x: ' '.join([word for word in x.split() if word not in (stop)]))\r\n",
        "  df['preprocess'] = df.apply(lambda row: re.sub('  +', ' ',row['preprocess']).strip(), axis=1)\r\n",
        "  df['tokenized_sents'] = df.apply(lambda row: word_tokenize(row['preprocess']), axis=1)\r\n",
        "  "
      ],
      "execution_count": 158,
      "outputs": []
    },
    {
      "cell_type": "code",
      "metadata": {
        "id": "VBZirKahb_Jq"
      },
      "source": [
        "preprocess(df)\r\n"
      ],
      "execution_count": 159,
      "outputs": []
    },
    {
      "cell_type": "code",
      "metadata": {
        "id": "2phBKtCCb_OZ"
      },
      "source": [
        "df[\"preprocess1\"] = df.apply(lambda x: x[\"comment_text\"] if len(x[\"preprocess\"])==0 else x['preprocess'], axis=1)"
      ],
      "execution_count": 160,
      "outputs": []
    },
    {
      "cell_type": "code",
      "metadata": {
        "id": "sT6FksfFb_RA"
      },
      "source": [
        "traindf=df[['preprocess1','toxic', 'severe_toxic', 'obscene', 'threat','insult', 'identity_hate']]\r\n"
      ],
      "execution_count": 161,
      "outputs": []
    },
    {
      "cell_type": "code",
      "metadata": {
        "id": "GJAc7NXHbpiw"
      },
      "source": [
        "from keras.preprocessing.text import Tokenizer\r\n",
        "from keras.preprocessing.sequence import pad_sequences\r\n",
        "from keras.utils import to_categorical\r\n",
        "from keras.models import Sequential\r\n",
        "from keras.layers import Dense,Dropout, LSTM, Embedding, Input\r\n",
        "from keras import metrics\r\n",
        "import keras"
      ],
      "execution_count": 170,
      "outputs": []
    },
    {
      "cell_type": "code",
      "metadata": {
        "id": "aITPrEtIezY4"
      },
      "source": [
        "traind=traindf[\"preprocess1\"]\r\n",
        "train_label=traindf[['toxic', 'severe_toxic', 'obscene', 'threat','insult', 'identity_hate']]\r\n",
        "tokenizer = Tokenizer(num_words = 20000)\r\n",
        "tokenizer.fit_on_texts(traind)\r\n",
        "train_final = tokenizer.texts_to_sequences(traind)\r\n",
        "traind=pad_sequences(train_final, maxlen=200)"
      ],
      "execution_count": 163,
      "outputs": []
    },
    {
      "cell_type": "code",
      "metadata": {
        "colab": {
          "base_uri": "https://localhost:8080/"
        },
        "id": "qaxPMmQ4fRJE",
        "outputId": "2de9f8e8-315c-4f35-fccc-98a9593072be"
      },
      "source": [
        "print(traind.shape,train_label.shape)"
      ],
      "execution_count": 164,
      "outputs": [
        {
          "output_type": "stream",
          "text": [
            "(159571, 200) (159571, 6)\n"
          ],
          "name": "stdout"
        }
      ]
    },
    {
      "cell_type": "code",
      "metadata": {
        "id": "a1K-zLqpMTwS"
      },
      "source": [
        "max_features = 20000\r\n",
        "embedding_dims = 32"
      ],
      "execution_count": 65,
      "outputs": []
    },
    {
      "cell_type": "code",
      "metadata": {
        "colab": {
          "base_uri": "https://localhost:8080/"
        },
        "id": "tFdWEGnzfToR",
        "outputId": "25b7777b-f7e3-427b-b135-c4af5078b48c"
      },
      "source": [
        "model = Sequential()\r\n",
        "model.add(Embedding(max_features, embedding_dims))\r\n",
        "model.add(LSTM(units = embedding_dims, dropout = 0.2, recurrent_dropout = 0.2,return_sequences=True))\r\n",
        "model.add(LSTM(units = embedding_dims, dropout = 0.2, recurrent_dropout = 0.2))\r\n",
        "model.add(Dense(units = 6, activation = 'sigmoid'))\r\n",
        "model.summary()"
      ],
      "execution_count": 166,
      "outputs": [
        {
          "output_type": "stream",
          "text": [
            "Model: \"sequential_22\"\n",
            "_________________________________________________________________\n",
            "Layer (type)                 Output Shape              Param #   \n",
            "=================================================================\n",
            "embedding_22 (Embedding)     (None, None, 32)          640000    \n",
            "_________________________________________________________________\n",
            "lstm_33 (LSTM)               (None, None, 32)          8320      \n",
            "_________________________________________________________________\n",
            "lstm_34 (LSTM)               (None, 32)                8320      \n",
            "_________________________________________________________________\n",
            "dense_25 (Dense)             (None, 6)                 198       \n",
            "=================================================================\n",
            "Total params: 656,838\n",
            "Trainable params: 656,838\n",
            "Non-trainable params: 0\n",
            "_________________________________________________________________\n"
          ],
          "name": "stdout"
        }
      ]
    },
    {
      "cell_type": "code",
      "metadata": {
        "colab": {
          "base_uri": "https://localhost:8080/"
        },
        "id": "r35so2OPfVa9",
        "outputId": "50dc1ad5-9d50-4439-a706-d737f06723d1"
      },
      "source": [
        "from sklearn.model_selection import train_test_split\r\n",
        "model.compile(loss = \"binary_crossentropy\", optimizer = \"adam\", metrics = [metrics.AUC(),metrics.Recall(), metrics.Accuracy(), metrics.Precision()])\r\n",
        "x_train, x_val, y_train, y_val = train_test_split(traind, train_label, shuffle = True, random_state = 123)\r\n",
        "print(x_train.shape, y_train.shape, x_val.shape, y_val.shape)\r\n",
        "model.fit(x_train, y_train, batch_size = 512, epochs = 10, validation_data = (x_val, y_val))"
      ],
      "execution_count": 109,
      "outputs": [
        {
          "output_type": "stream",
          "text": [
            "(119678, 200) (119678, 6) (39893, 200) (39893, 6)\n",
            "Epoch 1/10\n",
            "234/234 [==============================] - 375s 2s/step - loss: 0.1285 - auc_1: 0.8176 - recall_1: 0.0506 - accuracy: 0.0000e+00 - precision: 0.4629 - val_loss: 0.0626 - val_auc_1: 0.9673 - val_recall_1: 0.5399 - val_accuracy: 0.0000e+00 - val_precision: 0.8194\n",
            "Epoch 2/10\n",
            "234/234 [==============================] - 369s 2s/step - loss: 0.0595 - auc_1: 0.9732 - recall_1: 0.6110 - accuracy: 0.0000e+00 - precision: 0.7983 - val_loss: 0.0538 - val_auc_1: 0.9749 - val_recall_1: 0.6550 - val_accuracy: 0.0000e+00 - val_precision: 0.7915\n",
            "Epoch 3/10\n",
            "234/234 [==============================] - 369s 2s/step - loss: 0.0499 - auc_1: 0.9810 - recall_1: 0.6747 - accuracy: 0.0000e+00 - precision: 0.8159 - val_loss: 0.0515 - val_auc_1: 0.9750 - val_recall_1: 0.6525 - val_accuracy: 0.0000e+00 - val_precision: 0.8005\n",
            "Epoch 4/10\n",
            "234/234 [==============================] - 367s 2s/step - loss: 0.0445 - auc_1: 0.9844 - recall_1: 0.7007 - accuracy: 0.0000e+00 - precision: 0.8186 - val_loss: 0.0518 - val_auc_1: 0.9711 - val_recall_1: 0.6869 - val_accuracy: 0.0000e+00 - val_precision: 0.7860\n",
            "Epoch 5/10\n",
            "234/234 [==============================] - 366s 2s/step - loss: 0.0427 - auc_1: 0.9864 - recall_1: 0.7187 - accuracy: 0.0000e+00 - precision: 0.8301 - val_loss: 0.0520 - val_auc_1: 0.9721 - val_recall_1: 0.6691 - val_accuracy: 0.0000e+00 - val_precision: 0.7931\n",
            "Epoch 6/10\n",
            "234/234 [==============================] - 369s 2s/step - loss: 0.0408 - auc_1: 0.9879 - recall_1: 0.7302 - accuracy: 0.0000e+00 - precision: 0.8367 - val_loss: 0.0535 - val_auc_1: 0.9653 - val_recall_1: 0.6672 - val_accuracy: 0.0000e+00 - val_precision: 0.7966\n",
            "Epoch 7/10\n",
            "234/234 [==============================] - 370s 2s/step - loss: 0.0391 - auc_1: 0.9887 - recall_1: 0.7441 - accuracy: 0.0000e+00 - precision: 0.8389 - val_loss: 0.0547 - val_auc_1: 0.9625 - val_recall_1: 0.6794 - val_accuracy: 0.0000e+00 - val_precision: 0.7772\n",
            "Epoch 8/10\n",
            "234/234 [==============================] - 371s 2s/step - loss: 0.0373 - auc_1: 0.9898 - recall_1: 0.7571 - accuracy: 0.0000e+00 - precision: 0.8449 - val_loss: 0.0563 - val_auc_1: 0.9605 - val_recall_1: 0.6867 - val_accuracy: 0.0000e+00 - val_precision: 0.7519\n",
            "Epoch 9/10\n",
            "234/234 [==============================] - 371s 2s/step - loss: 0.0365 - auc_1: 0.9899 - recall_1: 0.7627 - accuracy: 0.0000e+00 - precision: 0.8444 - val_loss: 0.0577 - val_auc_1: 0.9546 - val_recall_1: 0.6641 - val_accuracy: 0.0000e+00 - val_precision: 0.7889\n",
            "Epoch 10/10\n",
            "234/234 [==============================] - 370s 2s/step - loss: 0.0357 - auc_1: 0.9907 - recall_1: 0.7658 - accuracy: 0.0000e+00 - precision: 0.8533 - val_loss: 0.0599 - val_auc_1: 0.9512 - val_recall_1: 0.6786 - val_accuracy: 0.0000e+00 - val_precision: 0.7672\n"
          ],
          "name": "stdout"
        },
        {
          "output_type": "execute_result",
          "data": {
            "text/plain": [
              "<tensorflow.python.keras.callbacks.History at 0x7f6f7c8c77b8>"
            ]
          },
          "metadata": {
            "tags": []
          },
          "execution_count": 109
        }
      ]
    },
    {
      "cell_type": "code",
      "metadata": {
        "colab": {
          "base_uri": "https://localhost:8080/"
        },
        "id": "BEv2zSkQsopA",
        "outputId": "794eab17-8501-47ff-f471-98133e460250"
      },
      "source": [
        "model.save('Text_Classification')"
      ],
      "execution_count": 110,
      "outputs": [
        {
          "output_type": "stream",
          "text": [
            "INFO:tensorflow:Assets written to: Text_Classification/assets\n"
          ],
          "name": "stdout"
        }
      ]
    },
    {
      "cell_type": "code",
      "metadata": {
        "id": "HHl-I6Rvie3K"
      },
      "source": [
        "model = keras.models.load_model('Text_Classification')"
      ],
      "execution_count": 172,
      "outputs": []
    },
    {
      "cell_type": "code",
      "metadata": {
        "id": "CMOm3bFJfejd"
      },
      "source": [
        "pred = model.predict(x_val)\r\n",
        "from sklearn import metrics\r\n",
        "tags = ['toxic', 'severe_toxic', 'obscene', 'threat','insult', 'identity_hate']"
      ],
      "execution_count": 180,
      "outputs": []
    },
    {
      "cell_type": "code",
      "metadata": {
        "id": "eK5VazUAZo-n"
      },
      "source": [
        "pred_df = pd.DataFrame(pred, columns = tags)"
      ],
      "execution_count": 181,
      "outputs": []
    },
    {
      "cell_type": "code",
      "metadata": {
        "colab": {
          "base_uri": "https://localhost:8080/"
        },
        "id": "9MwRmfmUVu5f",
        "outputId": "344bc801-2fa6-4a2f-f2ec-41657a360ba2"
      },
      "source": [
        "pred_df['toxic'].head()"
      ],
      "execution_count": 182,
      "outputs": [
        {
          "output_type": "execute_result",
          "data": {
            "text/plain": [
              "0    0.000897\n",
              "1    0.001540\n",
              "2    0.003000\n",
              "3    0.000426\n",
              "4    0.001736\n",
              "Name: toxic, dtype: float32"
            ]
          },
          "metadata": {
            "tags": []
          },
          "execution_count": 182
        }
      ]
    },
    {
      "cell_type": "code",
      "metadata": {
        "colab": {
          "base_uri": "https://localhost:8080/"
        },
        "id": "v1o6EcqhBSJS",
        "outputId": "334bc023-2092-4844-d737-499187a7328d"
      },
      "source": [
        "y_val['toxic'].head()"
      ],
      "execution_count": 183,
      "outputs": [
        {
          "output_type": "execute_result",
          "data": {
            "text/plain": [
              "50446    0\n",
              "81571    0\n",
              "25983    0\n",
              "39022    0\n",
              "49431    0\n",
              "Name: toxic, dtype: int64"
            ]
          },
          "metadata": {
            "tags": []
          },
          "execution_count": 183
        }
      ]
    },
    {
      "cell_type": "code",
      "metadata": {
        "colab": {
          "base_uri": "https://localhost:8080/",
          "height": 1000
        },
        "id": "5hy-pVYkBUyN",
        "outputId": "56ff04f3-3192-45c1-815b-aa05ec314ade"
      },
      "source": [
        "N = 100\r\n",
        "threshold = [n / N for n in range(1,N)]\r\n",
        "threshold_max = dict(zip(tags,[0]*6))\r\n",
        "threshold_argmax = dict(zip(tags,[0]*6))\r\n",
        "for i in tags:\r\n",
        "  for t in threshold:\r\n",
        "    pred_df['tmp'] = (pred_df[i]>= t).astype(int)\r\n",
        "    score = metrics.f1_score(y_val[i], pred_df['tmp'])\r\n",
        "    if score==0:\r\n",
        "      break\r\n",
        "    if(score > threshold_max[i]):\r\n",
        "      threshold_max[i] = score\r\n",
        "      threshold_argmax[i] = t\r\n",
        "\r\n",
        "    print(\"%s : f1 score for threshold %0.2f :   %0.3f\" %(i, t, score ))\r\n",
        "pred_df.drop(columns  = 'tmp')"
      ],
      "execution_count": 199,
      "outputs": [
        {
          "output_type": "stream",
          "text": [
            "toxic : f1 score for threshold 0.01 :   0.605\n",
            "toxic : f1 score for threshold 0.02 :   0.651\n",
            "toxic : f1 score for threshold 0.03 :   0.672\n",
            "toxic : f1 score for threshold 0.04 :   0.686\n",
            "toxic : f1 score for threshold 0.05 :   0.696\n",
            "toxic : f1 score for threshold 0.06 :   0.704\n",
            "toxic : f1 score for threshold 0.07 :   0.716\n",
            "toxic : f1 score for threshold 0.08 :   0.718\n",
            "toxic : f1 score for threshold 0.09 :   0.722\n",
            "toxic : f1 score for threshold 0.10 :   0.725\n",
            "toxic : f1 score for threshold 0.11 :   0.728\n",
            "toxic : f1 score for threshold 0.12 :   0.730\n",
            "toxic : f1 score for threshold 0.13 :   0.732\n",
            "toxic : f1 score for threshold 0.14 :   0.734\n",
            "toxic : f1 score for threshold 0.15 :   0.738\n",
            "toxic : f1 score for threshold 0.16 :   0.740\n",
            "toxic : f1 score for threshold 0.17 :   0.739\n",
            "toxic : f1 score for threshold 0.18 :   0.741\n",
            "toxic : f1 score for threshold 0.19 :   0.743\n",
            "toxic : f1 score for threshold 0.20 :   0.745\n",
            "toxic : f1 score for threshold 0.21 :   0.746\n",
            "toxic : f1 score for threshold 0.22 :   0.747\n",
            "toxic : f1 score for threshold 0.23 :   0.748\n",
            "toxic : f1 score for threshold 0.24 :   0.750\n",
            "toxic : f1 score for threshold 0.25 :   0.752\n",
            "toxic : f1 score for threshold 0.26 :   0.754\n",
            "toxic : f1 score for threshold 0.27 :   0.755\n",
            "toxic : f1 score for threshold 0.28 :   0.756\n",
            "toxic : f1 score for threshold 0.29 :   0.756\n",
            "toxic : f1 score for threshold 0.30 :   0.758\n",
            "toxic : f1 score for threshold 0.31 :   0.759\n",
            "toxic : f1 score for threshold 0.32 :   0.760\n",
            "toxic : f1 score for threshold 0.33 :   0.761\n",
            "toxic : f1 score for threshold 0.34 :   0.762\n",
            "toxic : f1 score for threshold 0.35 :   0.764\n",
            "toxic : f1 score for threshold 0.36 :   0.765\n",
            "toxic : f1 score for threshold 0.37 :   0.766\n",
            "toxic : f1 score for threshold 0.38 :   0.767\n",
            "toxic : f1 score for threshold 0.39 :   0.767\n",
            "toxic : f1 score for threshold 0.40 :   0.768\n",
            "toxic : f1 score for threshold 0.41 :   0.768\n",
            "toxic : f1 score for threshold 0.42 :   0.768\n",
            "toxic : f1 score for threshold 0.43 :   0.768\n",
            "toxic : f1 score for threshold 0.44 :   0.769\n",
            "toxic : f1 score for threshold 0.45 :   0.769\n",
            "toxic : f1 score for threshold 0.46 :   0.769\n",
            "toxic : f1 score for threshold 0.47 :   0.769\n",
            "toxic : f1 score for threshold 0.48 :   0.771\n",
            "toxic : f1 score for threshold 0.49 :   0.772\n",
            "toxic : f1 score for threshold 0.50 :   0.772\n",
            "toxic : f1 score for threshold 0.51 :   0.773\n",
            "toxic : f1 score for threshold 0.52 :   0.773\n",
            "toxic : f1 score for threshold 0.53 :   0.774\n",
            "toxic : f1 score for threshold 0.54 :   0.774\n",
            "toxic : f1 score for threshold 0.55 :   0.773\n",
            "toxic : f1 score for threshold 0.56 :   0.774\n",
            "toxic : f1 score for threshold 0.57 :   0.774\n",
            "toxic : f1 score for threshold 0.58 :   0.773\n",
            "toxic : f1 score for threshold 0.59 :   0.774\n",
            "toxic : f1 score for threshold 0.60 :   0.773\n",
            "toxic : f1 score for threshold 0.61 :   0.773\n",
            "toxic : f1 score for threshold 0.62 :   0.773\n",
            "toxic : f1 score for threshold 0.63 :   0.773\n",
            "toxic : f1 score for threshold 0.64 :   0.772\n",
            "toxic : f1 score for threshold 0.65 :   0.773\n",
            "toxic : f1 score for threshold 0.66 :   0.772\n",
            "toxic : f1 score for threshold 0.67 :   0.773\n",
            "toxic : f1 score for threshold 0.68 :   0.773\n",
            "toxic : f1 score for threshold 0.69 :   0.772\n",
            "toxic : f1 score for threshold 0.70 :   0.773\n",
            "toxic : f1 score for threshold 0.71 :   0.772\n",
            "toxic : f1 score for threshold 0.72 :   0.770\n",
            "toxic : f1 score for threshold 0.73 :   0.769\n",
            "toxic : f1 score for threshold 0.74 :   0.767\n",
            "toxic : f1 score for threshold 0.75 :   0.765\n",
            "toxic : f1 score for threshold 0.76 :   0.763\n",
            "toxic : f1 score for threshold 0.77 :   0.762\n",
            "toxic : f1 score for threshold 0.78 :   0.760\n",
            "toxic : f1 score for threshold 0.79 :   0.758\n",
            "toxic : f1 score for threshold 0.80 :   0.756\n",
            "toxic : f1 score for threshold 0.81 :   0.753\n",
            "toxic : f1 score for threshold 0.82 :   0.750\n",
            "toxic : f1 score for threshold 0.83 :   0.746\n",
            "toxic : f1 score for threshold 0.84 :   0.742\n",
            "toxic : f1 score for threshold 0.85 :   0.740\n",
            "toxic : f1 score for threshold 0.86 :   0.736\n",
            "toxic : f1 score for threshold 0.87 :   0.729\n",
            "toxic : f1 score for threshold 0.88 :   0.723\n",
            "toxic : f1 score for threshold 0.89 :   0.715\n",
            "toxic : f1 score for threshold 0.90 :   0.709\n",
            "toxic : f1 score for threshold 0.91 :   0.698\n",
            "toxic : f1 score for threshold 0.92 :   0.685\n",
            "toxic : f1 score for threshold 0.93 :   0.670\n",
            "toxic : f1 score for threshold 0.94 :   0.651\n",
            "toxic : f1 score for threshold 0.95 :   0.628\n",
            "toxic : f1 score for threshold 0.96 :   0.600\n",
            "toxic : f1 score for threshold 0.97 :   0.563\n",
            "toxic : f1 score for threshold 0.98 :   0.506\n",
            "toxic : f1 score for threshold 0.99 :   0.373\n",
            "severe_toxic : f1 score for threshold 0.01 :   0.294\n",
            "severe_toxic : f1 score for threshold 0.02 :   0.332\n",
            "severe_toxic : f1 score for threshold 0.03 :   0.356\n",
            "severe_toxic : f1 score for threshold 0.04 :   0.373\n",
            "severe_toxic : f1 score for threshold 0.05 :   0.386\n",
            "severe_toxic : f1 score for threshold 0.06 :   0.397\n",
            "severe_toxic : f1 score for threshold 0.07 :   0.402\n",
            "severe_toxic : f1 score for threshold 0.08 :   0.411\n",
            "severe_toxic : f1 score for threshold 0.09 :   0.420\n",
            "severe_toxic : f1 score for threshold 0.10 :   0.427\n",
            "severe_toxic : f1 score for threshold 0.11 :   0.433\n",
            "severe_toxic : f1 score for threshold 0.12 :   0.438\n",
            "severe_toxic : f1 score for threshold 0.13 :   0.445\n",
            "severe_toxic : f1 score for threshold 0.14 :   0.444\n",
            "severe_toxic : f1 score for threshold 0.15 :   0.451\n",
            "severe_toxic : f1 score for threshold 0.16 :   0.453\n",
            "severe_toxic : f1 score for threshold 0.17 :   0.460\n",
            "severe_toxic : f1 score for threshold 0.18 :   0.470\n",
            "severe_toxic : f1 score for threshold 0.19 :   0.471\n",
            "severe_toxic : f1 score for threshold 0.20 :   0.470\n",
            "severe_toxic : f1 score for threshold 0.21 :   0.468\n",
            "severe_toxic : f1 score for threshold 0.22 :   0.474\n",
            "severe_toxic : f1 score for threshold 0.23 :   0.473\n",
            "severe_toxic : f1 score for threshold 0.24 :   0.473\n",
            "severe_toxic : f1 score for threshold 0.25 :   0.473\n",
            "severe_toxic : f1 score for threshold 0.26 :   0.478\n",
            "severe_toxic : f1 score for threshold 0.27 :   0.483\n",
            "severe_toxic : f1 score for threshold 0.28 :   0.486\n",
            "severe_toxic : f1 score for threshold 0.29 :   0.487\n",
            "severe_toxic : f1 score for threshold 0.30 :   0.489\n",
            "severe_toxic : f1 score for threshold 0.31 :   0.497\n",
            "severe_toxic : f1 score for threshold 0.32 :   0.495\n",
            "severe_toxic : f1 score for threshold 0.33 :   0.498\n",
            "severe_toxic : f1 score for threshold 0.34 :   0.500\n",
            "severe_toxic : f1 score for threshold 0.35 :   0.499\n",
            "severe_toxic : f1 score for threshold 0.36 :   0.493\n",
            "severe_toxic : f1 score for threshold 0.37 :   0.490\n",
            "severe_toxic : f1 score for threshold 0.38 :   0.481\n",
            "severe_toxic : f1 score for threshold 0.39 :   0.479\n",
            "severe_toxic : f1 score for threshold 0.40 :   0.478\n",
            "severe_toxic : f1 score for threshold 0.41 :   0.479\n",
            "severe_toxic : f1 score for threshold 0.42 :   0.470\n",
            "severe_toxic : f1 score for threshold 0.43 :   0.461\n",
            "severe_toxic : f1 score for threshold 0.44 :   0.455\n",
            "severe_toxic : f1 score for threshold 0.45 :   0.447\n",
            "severe_toxic : f1 score for threshold 0.46 :   0.452\n",
            "severe_toxic : f1 score for threshold 0.47 :   0.446\n",
            "severe_toxic : f1 score for threshold 0.48 :   0.441\n",
            "severe_toxic : f1 score for threshold 0.49 :   0.435\n",
            "severe_toxic : f1 score for threshold 0.50 :   0.436\n",
            "severe_toxic : f1 score for threshold 0.51 :   0.429\n",
            "severe_toxic : f1 score for threshold 0.52 :   0.417\n",
            "severe_toxic : f1 score for threshold 0.53 :   0.408\n",
            "severe_toxic : f1 score for threshold 0.54 :   0.406\n",
            "severe_toxic : f1 score for threshold 0.55 :   0.392\n",
            "severe_toxic : f1 score for threshold 0.56 :   0.386\n",
            "severe_toxic : f1 score for threshold 0.57 :   0.361\n",
            "severe_toxic : f1 score for threshold 0.58 :   0.344\n",
            "severe_toxic : f1 score for threshold 0.59 :   0.329\n",
            "severe_toxic : f1 score for threshold 0.60 :   0.321\n",
            "severe_toxic : f1 score for threshold 0.61 :   0.309\n",
            "severe_toxic : f1 score for threshold 0.62 :   0.293\n",
            "severe_toxic : f1 score for threshold 0.63 :   0.281\n",
            "severe_toxic : f1 score for threshold 0.64 :   0.271\n",
            "severe_toxic : f1 score for threshold 0.65 :   0.268\n",
            "severe_toxic : f1 score for threshold 0.66 :   0.261\n",
            "severe_toxic : f1 score for threshold 0.67 :   0.255\n",
            "severe_toxic : f1 score for threshold 0.68 :   0.244\n",
            "severe_toxic : f1 score for threshold 0.69 :   0.227\n",
            "severe_toxic : f1 score for threshold 0.70 :   0.211\n",
            "severe_toxic : f1 score for threshold 0.71 :   0.163\n",
            "severe_toxic : f1 score for threshold 0.72 :   0.151\n",
            "severe_toxic : f1 score for threshold 0.73 :   0.127\n",
            "severe_toxic : f1 score for threshold 0.74 :   0.111\n",
            "severe_toxic : f1 score for threshold 0.75 :   0.094\n",
            "severe_toxic : f1 score for threshold 0.76 :   0.090\n",
            "severe_toxic : f1 score for threshold 0.77 :   0.063\n",
            "severe_toxic : f1 score for threshold 0.78 :   0.030\n",
            "severe_toxic : f1 score for threshold 0.79 :   0.025\n",
            "severe_toxic : f1 score for threshold 0.80 :   0.010\n",
            "severe_toxic : f1 score for threshold 0.81 :   0.010\n",
            "severe_toxic : f1 score for threshold 0.82 :   0.005\n",
            "obscene : f1 score for threshold 0.01 :   0.595\n",
            "obscene : f1 score for threshold 0.02 :   0.650\n",
            "obscene : f1 score for threshold 0.03 :   0.678\n",
            "obscene : f1 score for threshold 0.04 :   0.695\n",
            "obscene : f1 score for threshold 0.05 :   0.709\n",
            "obscene : f1 score for threshold 0.06 :   0.719\n",
            "obscene : f1 score for threshold 0.07 :   0.731\n",
            "obscene : f1 score for threshold 0.08 :   0.737\n",
            "obscene : f1 score for threshold 0.09 :   0.743\n",
            "obscene : f1 score for threshold 0.10 :   0.747\n",
            "obscene : f1 score for threshold 0.11 :   0.753\n",
            "obscene : f1 score for threshold 0.12 :   0.757\n",
            "obscene : f1 score for threshold 0.13 :   0.762\n",
            "obscene : f1 score for threshold 0.14 :   0.765\n",
            "obscene : f1 score for threshold 0.15 :   0.770\n",
            "obscene : f1 score for threshold 0.16 :   0.774\n",
            "obscene : f1 score for threshold 0.17 :   0.776\n",
            "obscene : f1 score for threshold 0.18 :   0.778\n",
            "obscene : f1 score for threshold 0.19 :   0.780\n",
            "obscene : f1 score for threshold 0.20 :   0.782\n",
            "obscene : f1 score for threshold 0.21 :   0.784\n",
            "obscene : f1 score for threshold 0.22 :   0.785\n",
            "obscene : f1 score for threshold 0.23 :   0.786\n",
            "obscene : f1 score for threshold 0.24 :   0.786\n",
            "obscene : f1 score for threshold 0.25 :   0.788\n",
            "obscene : f1 score for threshold 0.26 :   0.790\n",
            "obscene : f1 score for threshold 0.27 :   0.790\n",
            "obscene : f1 score for threshold 0.28 :   0.791\n",
            "obscene : f1 score for threshold 0.29 :   0.792\n",
            "obscene : f1 score for threshold 0.30 :   0.792\n",
            "obscene : f1 score for threshold 0.31 :   0.792\n",
            "obscene : f1 score for threshold 0.32 :   0.792\n",
            "obscene : f1 score for threshold 0.33 :   0.793\n",
            "obscene : f1 score for threshold 0.34 :   0.794\n",
            "obscene : f1 score for threshold 0.35 :   0.795\n",
            "obscene : f1 score for threshold 0.36 :   0.795\n",
            "obscene : f1 score for threshold 0.37 :   0.795\n",
            "obscene : f1 score for threshold 0.38 :   0.794\n",
            "obscene : f1 score for threshold 0.39 :   0.794\n",
            "obscene : f1 score for threshold 0.40 :   0.796\n",
            "obscene : f1 score for threshold 0.41 :   0.795\n",
            "obscene : f1 score for threshold 0.42 :   0.796\n",
            "obscene : f1 score for threshold 0.43 :   0.797\n",
            "obscene : f1 score for threshold 0.44 :   0.797\n",
            "obscene : f1 score for threshold 0.45 :   0.797\n",
            "obscene : f1 score for threshold 0.46 :   0.797\n",
            "obscene : f1 score for threshold 0.47 :   0.797\n",
            "obscene : f1 score for threshold 0.48 :   0.795\n",
            "obscene : f1 score for threshold 0.49 :   0.797\n",
            "obscene : f1 score for threshold 0.50 :   0.795\n",
            "obscene : f1 score for threshold 0.51 :   0.796\n",
            "obscene : f1 score for threshold 0.52 :   0.795\n",
            "obscene : f1 score for threshold 0.53 :   0.795\n",
            "obscene : f1 score for threshold 0.54 :   0.795\n",
            "obscene : f1 score for threshold 0.55 :   0.796\n",
            "obscene : f1 score for threshold 0.56 :   0.794\n",
            "obscene : f1 score for threshold 0.57 :   0.794\n",
            "obscene : f1 score for threshold 0.58 :   0.794\n",
            "obscene : f1 score for threshold 0.59 :   0.793\n",
            "obscene : f1 score for threshold 0.60 :   0.790\n",
            "obscene : f1 score for threshold 0.61 :   0.787\n",
            "obscene : f1 score for threshold 0.62 :   0.787\n",
            "obscene : f1 score for threshold 0.63 :   0.786\n",
            "obscene : f1 score for threshold 0.64 :   0.785\n",
            "obscene : f1 score for threshold 0.65 :   0.784\n",
            "obscene : f1 score for threshold 0.66 :   0.783\n",
            "obscene : f1 score for threshold 0.67 :   0.783\n",
            "obscene : f1 score for threshold 0.68 :   0.781\n",
            "obscene : f1 score for threshold 0.69 :   0.780\n",
            "obscene : f1 score for threshold 0.70 :   0.779\n",
            "obscene : f1 score for threshold 0.71 :   0.777\n",
            "obscene : f1 score for threshold 0.72 :   0.774\n",
            "obscene : f1 score for threshold 0.73 :   0.772\n",
            "obscene : f1 score for threshold 0.74 :   0.771\n",
            "obscene : f1 score for threshold 0.75 :   0.768\n",
            "obscene : f1 score for threshold 0.76 :   0.768\n",
            "obscene : f1 score for threshold 0.77 :   0.763\n",
            "obscene : f1 score for threshold 0.78 :   0.761\n",
            "obscene : f1 score for threshold 0.79 :   0.757\n",
            "obscene : f1 score for threshold 0.80 :   0.752\n",
            "obscene : f1 score for threshold 0.81 :   0.749\n",
            "obscene : f1 score for threshold 0.82 :   0.745\n",
            "obscene : f1 score for threshold 0.83 :   0.741\n",
            "obscene : f1 score for threshold 0.84 :   0.734\n",
            "obscene : f1 score for threshold 0.85 :   0.728\n",
            "obscene : f1 score for threshold 0.86 :   0.724\n",
            "obscene : f1 score for threshold 0.87 :   0.718\n",
            "obscene : f1 score for threshold 0.88 :   0.709\n",
            "obscene : f1 score for threshold 0.89 :   0.702\n",
            "obscene : f1 score for threshold 0.90 :   0.689\n",
            "obscene : f1 score for threshold 0.91 :   0.679\n",
            "obscene : f1 score for threshold 0.92 :   0.668\n",
            "obscene : f1 score for threshold 0.93 :   0.645\n",
            "obscene : f1 score for threshold 0.94 :   0.623\n",
            "obscene : f1 score for threshold 0.95 :   0.595\n",
            "obscene : f1 score for threshold 0.96 :   0.573\n",
            "obscene : f1 score for threshold 0.97 :   0.537\n",
            "obscene : f1 score for threshold 0.98 :   0.444\n",
            "obscene : f1 score for threshold 0.99 :   0.203\n",
            "threat : f1 score for threshold 0.01 :   0.070\n",
            "threat : f1 score for threshold 0.02 :   0.090\n",
            "threat : f1 score for threshold 0.03 :   0.111\n",
            "threat : f1 score for threshold 0.04 :   0.132\n",
            "threat : f1 score for threshold 0.05 :   0.152\n",
            "threat : f1 score for threshold 0.06 :   0.177\n",
            "threat : f1 score for threshold 0.07 :   0.193\n",
            "threat : f1 score for threshold 0.08 :   0.216\n",
            "threat : f1 score for threshold 0.09 :   0.205\n",
            "threat : f1 score for threshold 0.10 :   0.198\n",
            "threat : f1 score for threshold 0.11 :   0.182\n",
            "threat : f1 score for threshold 0.12 :   0.156\n",
            "threat : f1 score for threshold 0.13 :   0.163\n",
            "threat : f1 score for threshold 0.14 :   0.152\n",
            "threat : f1 score for threshold 0.15 :   0.142\n",
            "threat : f1 score for threshold 0.16 :   0.133\n",
            "threat : f1 score for threshold 0.17 :   0.132\n",
            "threat : f1 score for threshold 0.18 :   0.114\n",
            "threat : f1 score for threshold 0.19 :   0.093\n",
            "threat : f1 score for threshold 0.20 :   0.093\n",
            "threat : f1 score for threshold 0.21 :   0.083\n",
            "threat : f1 score for threshold 0.22 :   0.072\n",
            "threat : f1 score for threshold 0.23 :   0.061\n",
            "threat : f1 score for threshold 0.24 :   0.063\n",
            "threat : f1 score for threshold 0.25 :   0.065\n",
            "threat : f1 score for threshold 0.26 :   0.052\n",
            "threat : f1 score for threshold 0.27 :   0.052\n",
            "threat : f1 score for threshold 0.28 :   0.053\n",
            "threat : f1 score for threshold 0.29 :   0.053\n",
            "threat : f1 score for threshold 0.30 :   0.036\n",
            "threat : f1 score for threshold 0.31 :   0.018\n",
            "threat : f1 score for threshold 0.32 :   0.018\n",
            "threat : f1 score for threshold 0.33 :   0.018\n",
            "threat : f1 score for threshold 0.34 :   0.018\n",
            "threat : f1 score for threshold 0.35 :   0.018\n",
            "threat : f1 score for threshold 0.36 :   0.018\n",
            "threat : f1 score for threshold 0.37 :   0.018\n",
            "threat : f1 score for threshold 0.38 :   0.018\n",
            "threat : f1 score for threshold 0.39 :   0.018\n",
            "insult : f1 score for threshold 0.01 :   0.521\n",
            "insult : f1 score for threshold 0.02 :   0.565\n",
            "insult : f1 score for threshold 0.03 :   0.587\n",
            "insult : f1 score for threshold 0.04 :   0.601\n",
            "insult : f1 score for threshold 0.05 :   0.617\n",
            "insult : f1 score for threshold 0.06 :   0.626\n",
            "insult : f1 score for threshold 0.07 :   0.631\n",
            "insult : f1 score for threshold 0.08 :   0.636\n",
            "insult : f1 score for threshold 0.09 :   0.645\n",
            "insult : f1 score for threshold 0.10 :   0.649\n",
            "insult : f1 score for threshold 0.11 :   0.654\n",
            "insult : f1 score for threshold 0.12 :   0.658\n",
            "insult : f1 score for threshold 0.13 :   0.662\n",
            "insult : f1 score for threshold 0.14 :   0.664\n",
            "insult : f1 score for threshold 0.15 :   0.669\n",
            "insult : f1 score for threshold 0.16 :   0.672\n",
            "insult : f1 score for threshold 0.17 :   0.674\n",
            "insult : f1 score for threshold 0.18 :   0.675\n",
            "insult : f1 score for threshold 0.19 :   0.679\n",
            "insult : f1 score for threshold 0.20 :   0.680\n",
            "insult : f1 score for threshold 0.21 :   0.680\n",
            "insult : f1 score for threshold 0.22 :   0.682\n",
            "insult : f1 score for threshold 0.23 :   0.682\n",
            "insult : f1 score for threshold 0.24 :   0.683\n",
            "insult : f1 score for threshold 0.25 :   0.685\n",
            "insult : f1 score for threshold 0.26 :   0.685\n",
            "insult : f1 score for threshold 0.27 :   0.686\n",
            "insult : f1 score for threshold 0.28 :   0.687\n",
            "insult : f1 score for threshold 0.29 :   0.687\n",
            "insult : f1 score for threshold 0.30 :   0.690\n",
            "insult : f1 score for threshold 0.31 :   0.692\n",
            "insult : f1 score for threshold 0.32 :   0.693\n",
            "insult : f1 score for threshold 0.33 :   0.693\n",
            "insult : f1 score for threshold 0.34 :   0.691\n",
            "insult : f1 score for threshold 0.35 :   0.693\n",
            "insult : f1 score for threshold 0.36 :   0.695\n",
            "insult : f1 score for threshold 0.37 :   0.692\n",
            "insult : f1 score for threshold 0.38 :   0.692\n",
            "insult : f1 score for threshold 0.39 :   0.692\n",
            "insult : f1 score for threshold 0.40 :   0.692\n",
            "insult : f1 score for threshold 0.41 :   0.691\n",
            "insult : f1 score for threshold 0.42 :   0.691\n",
            "insult : f1 score for threshold 0.43 :   0.689\n",
            "insult : f1 score for threshold 0.44 :   0.689\n",
            "insult : f1 score for threshold 0.45 :   0.687\n",
            "insult : f1 score for threshold 0.46 :   0.687\n",
            "insult : f1 score for threshold 0.47 :   0.683\n",
            "insult : f1 score for threshold 0.48 :   0.684\n",
            "insult : f1 score for threshold 0.49 :   0.683\n",
            "insult : f1 score for threshold 0.50 :   0.682\n",
            "insult : f1 score for threshold 0.51 :   0.682\n",
            "insult : f1 score for threshold 0.52 :   0.681\n",
            "insult : f1 score for threshold 0.53 :   0.680\n",
            "insult : f1 score for threshold 0.54 :   0.678\n",
            "insult : f1 score for threshold 0.55 :   0.677\n",
            "insult : f1 score for threshold 0.56 :   0.675\n",
            "insult : f1 score for threshold 0.57 :   0.671\n",
            "insult : f1 score for threshold 0.58 :   0.667\n",
            "insult : f1 score for threshold 0.59 :   0.666\n",
            "insult : f1 score for threshold 0.60 :   0.663\n",
            "insult : f1 score for threshold 0.61 :   0.662\n",
            "insult : f1 score for threshold 0.62 :   0.659\n",
            "insult : f1 score for threshold 0.63 :   0.660\n",
            "insult : f1 score for threshold 0.64 :   0.658\n",
            "insult : f1 score for threshold 0.65 :   0.655\n",
            "insult : f1 score for threshold 0.66 :   0.653\n",
            "insult : f1 score for threshold 0.67 :   0.648\n",
            "insult : f1 score for threshold 0.68 :   0.640\n",
            "insult : f1 score for threshold 0.69 :   0.637\n",
            "insult : f1 score for threshold 0.70 :   0.636\n",
            "insult : f1 score for threshold 0.71 :   0.631\n",
            "insult : f1 score for threshold 0.72 :   0.627\n",
            "insult : f1 score for threshold 0.73 :   0.618\n",
            "insult : f1 score for threshold 0.74 :   0.612\n",
            "insult : f1 score for threshold 0.75 :   0.607\n",
            "insult : f1 score for threshold 0.76 :   0.601\n",
            "insult : f1 score for threshold 0.77 :   0.593\n",
            "insult : f1 score for threshold 0.78 :   0.584\n",
            "insult : f1 score for threshold 0.79 :   0.577\n",
            "insult : f1 score for threshold 0.80 :   0.566\n",
            "insult : f1 score for threshold 0.81 :   0.555\n",
            "insult : f1 score for threshold 0.82 :   0.540\n",
            "insult : f1 score for threshold 0.83 :   0.522\n",
            "insult : f1 score for threshold 0.84 :   0.500\n",
            "insult : f1 score for threshold 0.85 :   0.477\n",
            "insult : f1 score for threshold 0.86 :   0.461\n",
            "insult : f1 score for threshold 0.87 :   0.432\n",
            "insult : f1 score for threshold 0.88 :   0.406\n",
            "insult : f1 score for threshold 0.89 :   0.374\n",
            "insult : f1 score for threshold 0.90 :   0.340\n",
            "insult : f1 score for threshold 0.91 :   0.298\n",
            "insult : f1 score for threshold 0.92 :   0.249\n",
            "insult : f1 score for threshold 0.93 :   0.174\n",
            "insult : f1 score for threshold 0.94 :   0.103\n",
            "insult : f1 score for threshold 0.95 :   0.047\n",
            "identity_hate : f1 score for threshold 0.01 :   0.162\n",
            "identity_hate : f1 score for threshold 0.02 :   0.181\n",
            "identity_hate : f1 score for threshold 0.03 :   0.195\n",
            "identity_hate : f1 score for threshold 0.04 :   0.206\n",
            "identity_hate : f1 score for threshold 0.05 :   0.216\n",
            "identity_hate : f1 score for threshold 0.06 :   0.228\n",
            "identity_hate : f1 score for threshold 0.07 :   0.240\n",
            "identity_hate : f1 score for threshold 0.08 :   0.248\n",
            "identity_hate : f1 score for threshold 0.09 :   0.254\n",
            "identity_hate : f1 score for threshold 0.10 :   0.258\n",
            "identity_hate : f1 score for threshold 0.11 :   0.268\n",
            "identity_hate : f1 score for threshold 0.12 :   0.280\n",
            "identity_hate : f1 score for threshold 0.13 :   0.288\n",
            "identity_hate : f1 score for threshold 0.14 :   0.296\n",
            "identity_hate : f1 score for threshold 0.15 :   0.297\n",
            "identity_hate : f1 score for threshold 0.16 :   0.303\n",
            "identity_hate : f1 score for threshold 0.17 :   0.309\n",
            "identity_hate : f1 score for threshold 0.18 :   0.308\n",
            "identity_hate : f1 score for threshold 0.19 :   0.300\n",
            "identity_hate : f1 score for threshold 0.20 :   0.306\n",
            "identity_hate : f1 score for threshold 0.21 :   0.299\n",
            "identity_hate : f1 score for threshold 0.22 :   0.293\n",
            "identity_hate : f1 score for threshold 0.23 :   0.285\n",
            "identity_hate : f1 score for threshold 0.24 :   0.278\n",
            "identity_hate : f1 score for threshold 0.25 :   0.275\n",
            "identity_hate : f1 score for threshold 0.26 :   0.278\n",
            "identity_hate : f1 score for threshold 0.27 :   0.265\n",
            "identity_hate : f1 score for threshold 0.28 :   0.262\n",
            "identity_hate : f1 score for threshold 0.29 :   0.247\n",
            "identity_hate : f1 score for threshold 0.30 :   0.240\n",
            "identity_hate : f1 score for threshold 0.31 :   0.233\n",
            "identity_hate : f1 score for threshold 0.32 :   0.224\n",
            "identity_hate : f1 score for threshold 0.33 :   0.197\n",
            "identity_hate : f1 score for threshold 0.34 :   0.177\n",
            "identity_hate : f1 score for threshold 0.35 :   0.179\n",
            "identity_hate : f1 score for threshold 0.36 :   0.155\n",
            "identity_hate : f1 score for threshold 0.37 :   0.147\n",
            "identity_hate : f1 score for threshold 0.38 :   0.129\n",
            "identity_hate : f1 score for threshold 0.39 :   0.100\n",
            "identity_hate : f1 score for threshold 0.40 :   0.087\n",
            "identity_hate : f1 score for threshold 0.41 :   0.055\n",
            "identity_hate : f1 score for threshold 0.42 :   0.031\n",
            "identity_hate : f1 score for threshold 0.43 :   0.032\n",
            "identity_hate : f1 score for threshold 0.44 :   0.011\n",
            "identity_hate : f1 score for threshold 0.45 :   0.011\n",
            "identity_hate : f1 score for threshold 0.46 :   0.006\n",
            "identity_hate : f1 score for threshold 0.47 :   0.006\n"
          ],
          "name": "stdout"
        },
        {
          "output_type": "execute_result",
          "data": {
            "text/html": [
              "<div>\n",
              "<style scoped>\n",
              "    .dataframe tbody tr th:only-of-type {\n",
              "        vertical-align: middle;\n",
              "    }\n",
              "\n",
              "    .dataframe tbody tr th {\n",
              "        vertical-align: top;\n",
              "    }\n",
              "\n",
              "    .dataframe thead th {\n",
              "        text-align: right;\n",
              "    }\n",
              "</style>\n",
              "<table border=\"1\" class=\"dataframe\">\n",
              "  <thead>\n",
              "    <tr style=\"text-align: right;\">\n",
              "      <th></th>\n",
              "      <th>toxic</th>\n",
              "      <th>severe_toxic</th>\n",
              "      <th>obscene</th>\n",
              "      <th>threat</th>\n",
              "      <th>insult</th>\n",
              "      <th>identity_hate</th>\n",
              "    </tr>\n",
              "  </thead>\n",
              "  <tbody>\n",
              "    <tr>\n",
              "      <th>0</th>\n",
              "      <td>0.000897</td>\n",
              "      <td>0.000010</td>\n",
              "      <td>0.000265</td>\n",
              "      <td>0.000058</td>\n",
              "      <td>0.000232</td>\n",
              "      <td>0.000109</td>\n",
              "    </tr>\n",
              "    <tr>\n",
              "      <th>1</th>\n",
              "      <td>0.001540</td>\n",
              "      <td>0.000017</td>\n",
              "      <td>0.000410</td>\n",
              "      <td>0.000093</td>\n",
              "      <td>0.000386</td>\n",
              "      <td>0.000176</td>\n",
              "    </tr>\n",
              "    <tr>\n",
              "      <th>2</th>\n",
              "      <td>0.003000</td>\n",
              "      <td>0.000019</td>\n",
              "      <td>0.000587</td>\n",
              "      <td>0.000110</td>\n",
              "      <td>0.000582</td>\n",
              "      <td>0.000216</td>\n",
              "    </tr>\n",
              "    <tr>\n",
              "      <th>3</th>\n",
              "      <td>0.000426</td>\n",
              "      <td>0.000004</td>\n",
              "      <td>0.000133</td>\n",
              "      <td>0.000032</td>\n",
              "      <td>0.000118</td>\n",
              "      <td>0.000060</td>\n",
              "    </tr>\n",
              "    <tr>\n",
              "      <th>4</th>\n",
              "      <td>0.001736</td>\n",
              "      <td>0.000017</td>\n",
              "      <td>0.000454</td>\n",
              "      <td>0.000096</td>\n",
              "      <td>0.000419</td>\n",
              "      <td>0.000184</td>\n",
              "    </tr>\n",
              "    <tr>\n",
              "      <th>...</th>\n",
              "      <td>...</td>\n",
              "      <td>...</td>\n",
              "      <td>...</td>\n",
              "      <td>...</td>\n",
              "      <td>...</td>\n",
              "      <td>...</td>\n",
              "    </tr>\n",
              "    <tr>\n",
              "      <th>39888</th>\n",
              "      <td>0.000435</td>\n",
              "      <td>0.000004</td>\n",
              "      <td>0.000136</td>\n",
              "      <td>0.000030</td>\n",
              "      <td>0.000116</td>\n",
              "      <td>0.000056</td>\n",
              "    </tr>\n",
              "    <tr>\n",
              "      <th>39889</th>\n",
              "      <td>0.000439</td>\n",
              "      <td>0.000004</td>\n",
              "      <td>0.000137</td>\n",
              "      <td>0.000032</td>\n",
              "      <td>0.000120</td>\n",
              "      <td>0.000061</td>\n",
              "    </tr>\n",
              "    <tr>\n",
              "      <th>39890</th>\n",
              "      <td>0.000657</td>\n",
              "      <td>0.000006</td>\n",
              "      <td>0.000189</td>\n",
              "      <td>0.000036</td>\n",
              "      <td>0.000162</td>\n",
              "      <td>0.000070</td>\n",
              "    </tr>\n",
              "    <tr>\n",
              "      <th>39891</th>\n",
              "      <td>0.000664</td>\n",
              "      <td>0.000006</td>\n",
              "      <td>0.000187</td>\n",
              "      <td>0.000033</td>\n",
              "      <td>0.000157</td>\n",
              "      <td>0.000068</td>\n",
              "    </tr>\n",
              "    <tr>\n",
              "      <th>39892</th>\n",
              "      <td>0.000457</td>\n",
              "      <td>0.000004</td>\n",
              "      <td>0.000139</td>\n",
              "      <td>0.000030</td>\n",
              "      <td>0.000120</td>\n",
              "      <td>0.000057</td>\n",
              "    </tr>\n",
              "  </tbody>\n",
              "</table>\n",
              "<p>39893 rows × 6 columns</p>\n",
              "</div>"
            ],
            "text/plain": [
              "          toxic  severe_toxic   obscene    threat    insult  identity_hate\n",
              "0      0.000897      0.000010  0.000265  0.000058  0.000232       0.000109\n",
              "1      0.001540      0.000017  0.000410  0.000093  0.000386       0.000176\n",
              "2      0.003000      0.000019  0.000587  0.000110  0.000582       0.000216\n",
              "3      0.000426      0.000004  0.000133  0.000032  0.000118       0.000060\n",
              "4      0.001736      0.000017  0.000454  0.000096  0.000419       0.000184\n",
              "...         ...           ...       ...       ...       ...            ...\n",
              "39888  0.000435      0.000004  0.000136  0.000030  0.000116       0.000056\n",
              "39889  0.000439      0.000004  0.000137  0.000032  0.000120       0.000061\n",
              "39890  0.000657      0.000006  0.000189  0.000036  0.000162       0.000070\n",
              "39891  0.000664      0.000006  0.000187  0.000033  0.000157       0.000068\n",
              "39892  0.000457      0.000004  0.000139  0.000030  0.000120       0.000057\n",
              "\n",
              "[39893 rows x 6 columns]"
            ]
          },
          "metadata": {
            "tags": []
          },
          "execution_count": 199
        }
      ]
    },
    {
      "cell_type": "code",
      "metadata": {
        "id": "VgbJ1TnR00i_"
      },
      "source": [
        "#print(threshold_argmax)\r\n",
        "#print(threshold_max)"
      ],
      "execution_count": 200,
      "outputs": []
    },
    {
      "cell_type": "code",
      "metadata": {
        "id": "SUaES_HPyosT"
      },
      "source": [
        "for i in tags:\r\n",
        "  pred_df[i] = (pred_df[i]>= threshold_argmax[i]).astype(int)"
      ],
      "execution_count": 201,
      "outputs": []
    },
    {
      "cell_type": "code",
      "metadata": {
        "colab": {
          "base_uri": "https://localhost:8080/"
        },
        "id": "GzFtIePdUHDp",
        "outputId": "ae065361-9006-4d72-bc0d-76dc3549ae7c"
      },
      "source": [
        "score = metrics.f1_score(y_val[i], pred_df[i], average = 'micro')\r\n",
        "print(score)"
      ],
      "execution_count": 202,
      "outputs": [
        {
          "output_type": "stream",
          "text": [
            "0.9811245080590579\n"
          ],
          "name": "stdout"
        }
      ]
    },
    {
      "cell_type": "code",
      "metadata": {
        "colab": {
          "base_uri": "https://localhost:8080/",
          "height": 191
        },
        "id": "s-diZDaJALbC",
        "outputId": "208866da-6bed-428e-b800-5ae823d71393"
      },
      "source": [
        "pred_df.head()"
      ],
      "execution_count": 203,
      "outputs": [
        {
          "output_type": "execute_result",
          "data": {
            "text/html": [
              "<div>\n",
              "<style scoped>\n",
              "    .dataframe tbody tr th:only-of-type {\n",
              "        vertical-align: middle;\n",
              "    }\n",
              "\n",
              "    .dataframe tbody tr th {\n",
              "        vertical-align: top;\n",
              "    }\n",
              "\n",
              "    .dataframe thead th {\n",
              "        text-align: right;\n",
              "    }\n",
              "</style>\n",
              "<table border=\"1\" class=\"dataframe\">\n",
              "  <thead>\n",
              "    <tr style=\"text-align: right;\">\n",
              "      <th></th>\n",
              "      <th>toxic</th>\n",
              "      <th>severe_toxic</th>\n",
              "      <th>obscene</th>\n",
              "      <th>threat</th>\n",
              "      <th>insult</th>\n",
              "      <th>identity_hate</th>\n",
              "      <th>tmp</th>\n",
              "    </tr>\n",
              "  </thead>\n",
              "  <tbody>\n",
              "    <tr>\n",
              "      <th>0</th>\n",
              "      <td>0</td>\n",
              "      <td>0</td>\n",
              "      <td>0</td>\n",
              "      <td>0</td>\n",
              "      <td>0</td>\n",
              "      <td>0</td>\n",
              "      <td>0</td>\n",
              "    </tr>\n",
              "    <tr>\n",
              "      <th>1</th>\n",
              "      <td>0</td>\n",
              "      <td>0</td>\n",
              "      <td>0</td>\n",
              "      <td>0</td>\n",
              "      <td>0</td>\n",
              "      <td>0</td>\n",
              "      <td>0</td>\n",
              "    </tr>\n",
              "    <tr>\n",
              "      <th>2</th>\n",
              "      <td>0</td>\n",
              "      <td>0</td>\n",
              "      <td>0</td>\n",
              "      <td>0</td>\n",
              "      <td>0</td>\n",
              "      <td>0</td>\n",
              "      <td>0</td>\n",
              "    </tr>\n",
              "    <tr>\n",
              "      <th>3</th>\n",
              "      <td>0</td>\n",
              "      <td>0</td>\n",
              "      <td>0</td>\n",
              "      <td>0</td>\n",
              "      <td>0</td>\n",
              "      <td>0</td>\n",
              "      <td>0</td>\n",
              "    </tr>\n",
              "    <tr>\n",
              "      <th>4</th>\n",
              "      <td>0</td>\n",
              "      <td>0</td>\n",
              "      <td>0</td>\n",
              "      <td>0</td>\n",
              "      <td>0</td>\n",
              "      <td>0</td>\n",
              "      <td>0</td>\n",
              "    </tr>\n",
              "  </tbody>\n",
              "</table>\n",
              "</div>"
            ],
            "text/plain": [
              "   toxic  severe_toxic  obscene  threat  insult  identity_hate  tmp\n",
              "0      0             0        0       0       0              0    0\n",
              "1      0             0        0       0       0              0    0\n",
              "2      0             0        0       0       0              0    0\n",
              "3      0             0        0       0       0              0    0\n",
              "4      0             0        0       0       0              0    0"
            ]
          },
          "metadata": {
            "tags": []
          },
          "execution_count": 203
        }
      ]
    },
    {
      "cell_type": "code",
      "metadata": {
        "id": "PeHCMSELpKzl"
      },
      "source": [
        ""
      ],
      "execution_count": null,
      "outputs": []
    }
  ]
}