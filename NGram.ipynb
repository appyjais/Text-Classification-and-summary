{
  "nbformat": 4,
  "nbformat_minor": 0,
  "metadata": {
    "colab": {
      "name": "NGram",
      "provenance": [],
      "collapsed_sections": [],
      "authorship_tag": "ABX9TyM7WoDW5ULLNLMlH6VqQE55",
      "include_colab_link": true
    },
    "kernelspec": {
      "name": "python3",
      "display_name": "Python 3"
    }
  },
  "cells": [
    {
      "cell_type": "markdown",
      "metadata": {
        "id": "view-in-github",
        "colab_type": "text"
      },
      "source": [
        "<a href=\"https://colab.research.google.com/github/appyjais/Text-Classification-and-summary/blob/main/NGram.ipynb\" target=\"_parent\"><img src=\"https://colab.research.google.com/assets/colab-badge.svg\" alt=\"Open In Colab\"/></a>"
      ]
    },
    {
      "cell_type": "code",
      "metadata": {
        "colab": {
          "base_uri": "https://localhost:8080/"
        },
        "id": "bK2LDFrPz5Ty",
        "outputId": "68764228-d3ee-4cfe-9a14-cd9c72029185"
      },
      "source": [
        "import pandas as pd\r\n",
        "import tensorflow as tf\r\n",
        "import numpy as np\r\n",
        "import os\r\n",
        "import seaborn as sns\r\n",
        "import matplotlib.pyplot as plt\r\n",
        "from google.colab import drive\r\n",
        "from nltk import word_tokenize\r\n",
        "import nltk\r\n",
        "import pandas as pd\r\n",
        "import numpy as np\r\n",
        "nltk.download('punkt')\r\n",
        "nltk.download('stopwords')\r\n",
        "import re\r\n",
        "from nltk.corpus import stopwords\r\n",
        "from nltk import ngrams\r\n",
        "stop = stopwords.words('english')\r\n",
        "drive.mount('/content/drive')"
      ],
      "execution_count": 1,
      "outputs": [
        {
          "output_type": "stream",
          "text": [
            "[nltk_data] Downloading package punkt to /root/nltk_data...\n",
            "[nltk_data]   Package punkt is already up-to-date!\n",
            "[nltk_data] Downloading package stopwords to /root/nltk_data...\n",
            "[nltk_data]   Package stopwords is already up-to-date!\n",
            "Drive already mounted at /content/drive; to attempt to forcibly remount, call drive.mount(\"/content/drive\", force_remount=True).\n"
          ],
          "name": "stdout"
        }
      ]
    },
    {
      "cell_type": "code",
      "metadata": {
        "id": "iWZUxjLcz7Ey"
      },
      "source": [
        "path = '/content/drive/MyDrive/Assignment/securly/dataset/dataset/train.csv/train.csv'\r\n",
        "df = pd.read_csv(path)"
      ],
      "execution_count": 2,
      "outputs": []
    },
    {
      "cell_type": "code",
      "metadata": {
        "colab": {
          "base_uri": "https://localhost:8080/",
          "height": 191
        },
        "id": "u4ZVBdS10HPo",
        "outputId": "c9e417f1-4eee-43ca-e163-0049748a7893"
      },
      "source": [
        "df.head()"
      ],
      "execution_count": 3,
      "outputs": [
        {
          "output_type": "execute_result",
          "data": {
            "text/html": [
              "<div>\n",
              "<style scoped>\n",
              "    .dataframe tbody tr th:only-of-type {\n",
              "        vertical-align: middle;\n",
              "    }\n",
              "\n",
              "    .dataframe tbody tr th {\n",
              "        vertical-align: top;\n",
              "    }\n",
              "\n",
              "    .dataframe thead th {\n",
              "        text-align: right;\n",
              "    }\n",
              "</style>\n",
              "<table border=\"1\" class=\"dataframe\">\n",
              "  <thead>\n",
              "    <tr style=\"text-align: right;\">\n",
              "      <th></th>\n",
              "      <th>id</th>\n",
              "      <th>comment_text</th>\n",
              "      <th>toxic</th>\n",
              "      <th>severe_toxic</th>\n",
              "      <th>obscene</th>\n",
              "      <th>threat</th>\n",
              "      <th>insult</th>\n",
              "      <th>identity_hate</th>\n",
              "    </tr>\n",
              "  </thead>\n",
              "  <tbody>\n",
              "    <tr>\n",
              "      <th>0</th>\n",
              "      <td>0000997932d777bf</td>\n",
              "      <td>Explanation\\nWhy the edits made under my usern...</td>\n",
              "      <td>0</td>\n",
              "      <td>0</td>\n",
              "      <td>0</td>\n",
              "      <td>0</td>\n",
              "      <td>0</td>\n",
              "      <td>0</td>\n",
              "    </tr>\n",
              "    <tr>\n",
              "      <th>1</th>\n",
              "      <td>000103f0d9cfb60f</td>\n",
              "      <td>D'aww! He matches this background colour I'm s...</td>\n",
              "      <td>0</td>\n",
              "      <td>0</td>\n",
              "      <td>0</td>\n",
              "      <td>0</td>\n",
              "      <td>0</td>\n",
              "      <td>0</td>\n",
              "    </tr>\n",
              "    <tr>\n",
              "      <th>2</th>\n",
              "      <td>000113f07ec002fd</td>\n",
              "      <td>Hey man, I'm really not trying to edit war. It...</td>\n",
              "      <td>0</td>\n",
              "      <td>0</td>\n",
              "      <td>0</td>\n",
              "      <td>0</td>\n",
              "      <td>0</td>\n",
              "      <td>0</td>\n",
              "    </tr>\n",
              "    <tr>\n",
              "      <th>3</th>\n",
              "      <td>0001b41b1c6bb37e</td>\n",
              "      <td>\"\\nMore\\nI can't make any real suggestions on ...</td>\n",
              "      <td>0</td>\n",
              "      <td>0</td>\n",
              "      <td>0</td>\n",
              "      <td>0</td>\n",
              "      <td>0</td>\n",
              "      <td>0</td>\n",
              "    </tr>\n",
              "    <tr>\n",
              "      <th>4</th>\n",
              "      <td>0001d958c54c6e35</td>\n",
              "      <td>You, sir, are my hero. Any chance you remember...</td>\n",
              "      <td>0</td>\n",
              "      <td>0</td>\n",
              "      <td>0</td>\n",
              "      <td>0</td>\n",
              "      <td>0</td>\n",
              "      <td>0</td>\n",
              "    </tr>\n",
              "  </tbody>\n",
              "</table>\n",
              "</div>"
            ],
            "text/plain": [
              "                 id  ... identity_hate\n",
              "0  0000997932d777bf  ...             0\n",
              "1  000103f0d9cfb60f  ...             0\n",
              "2  000113f07ec002fd  ...             0\n",
              "3  0001b41b1c6bb37e  ...             0\n",
              "4  0001d958c54c6e35  ...             0\n",
              "\n",
              "[5 rows x 8 columns]"
            ]
          },
          "metadata": {
            "tags": []
          },
          "execution_count": 3
        }
      ]
    },
    {
      "cell_type": "code",
      "metadata": {
        "id": "9EjfpiKE0KC9"
      },
      "source": [
        "tags = ['toxic', 'severe_toxic','obscene', 'threat', 'insult', 'identity_hate']"
      ],
      "execution_count": 4,
      "outputs": []
    },
    {
      "cell_type": "code",
      "metadata": {
        "id": "TDZv9WGQ0YBH"
      },
      "source": [
        "def preprocess(df):\r\n",
        "    df['preprocess'] = df.apply(lambda row: row['comment_text'].replace(\"\\n\",\" \"), axis=1) #removes new line character\r\n",
        "    df['preprocess'] = df.apply(lambda row: re.sub('[^A-Za-z\\' ]+', '',row['preprocess']).lower(), axis=1)\r\n",
        "    df['preprocess'] = df['preprocess'].apply(lambda x: ' '.join([word for word in x.split() if word not in (stop)]))\r\n",
        "    df['preprocess'] = df.apply(lambda row: re.sub('  +', ' ',row['preprocess']).strip(), axis=1)\r\n",
        "    df[\"preprocess1\"] = df.apply(lambda x: x[\"comment_text\"] if len(x[\"preprocess\"])==0 else x['preprocess'], axis=1)\r\n"
      ],
      "execution_count": 5,
      "outputs": []
    },
    {
      "cell_type": "code",
      "metadata": {
        "id": "_02Derh_2h8h"
      },
      "source": [
        "preprocess(df)"
      ],
      "execution_count": 6,
      "outputs": []
    },
    {
      "cell_type": "code",
      "metadata": {
        "colab": {
          "base_uri": "https://localhost:8080/",
          "height": 223
        },
        "id": "BJpPPjRm2kS3",
        "outputId": "20c7cd49-d1ac-4252-d7aa-a29fb26e273d"
      },
      "source": [
        "df['ngram1'] = df.apply(lambda x: list(ngrams(x['preprocess1'].split(),1)), axis=1)\r\n",
        "df['ngram2'] = df.apply(lambda x: list(ngrams(x['preprocess1'].split(),2)), axis=1)\r\n",
        "df['ngram3'] = df.apply(lambda x: list(ngrams(x['preprocess1'].split(),3)), axis=1)\r\n",
        "#df['ngram4'] = df.apply(lambda x: list(ngrams(x['preprocess1'].split(),4)), axis=1)\r\n",
        "#df['ngram5'] = df.apply(lambda x: list(ngrams(x['preprocess1'].split(),5)), axis=1)\r\n",
        "#df['ngram'] = df.apply(lambda x: x['ngram1']+x['ngram2']+x['ngram3']+x['ngram4']+x['ngram5'], axis=1)\r\n",
        "df['ngram'] = df.apply(lambda x: x['ngram1']+x['ngram2']+x['ngram3'], axis=1)\r\n",
        "l = ['id', 'toxic', 'severe_toxic', 'obscene', 'threat', 'insult', 'identity_hate', 'ngram']\r\n",
        "df = df[l].explode('ngram')\r\n",
        "df['ngram'] = df.apply(lambda x: ' '.join(t for t in x['ngram']), axis=1 )\r\n",
        "df.head()"
      ],
      "execution_count": 7,
      "outputs": [
        {
          "output_type": "stream",
          "text": [
            "/usr/local/lib/python3.6/dist-packages/ipykernel_launcher.py:3: DeprecationWarning: generator 'ngrams' raised StopIteration\n",
            "  This is separate from the ipykernel package so we can avoid doing imports until\n"
          ],
          "name": "stderr"
        },
        {
          "output_type": "execute_result",
          "data": {
            "text/html": [
              "<div>\n",
              "<style scoped>\n",
              "    .dataframe tbody tr th:only-of-type {\n",
              "        vertical-align: middle;\n",
              "    }\n",
              "\n",
              "    .dataframe tbody tr th {\n",
              "        vertical-align: top;\n",
              "    }\n",
              "\n",
              "    .dataframe thead th {\n",
              "        text-align: right;\n",
              "    }\n",
              "</style>\n",
              "<table border=\"1\" class=\"dataframe\">\n",
              "  <thead>\n",
              "    <tr style=\"text-align: right;\">\n",
              "      <th></th>\n",
              "      <th>id</th>\n",
              "      <th>toxic</th>\n",
              "      <th>severe_toxic</th>\n",
              "      <th>obscene</th>\n",
              "      <th>threat</th>\n",
              "      <th>insult</th>\n",
              "      <th>identity_hate</th>\n",
              "      <th>ngram</th>\n",
              "    </tr>\n",
              "  </thead>\n",
              "  <tbody>\n",
              "    <tr>\n",
              "      <th>0</th>\n",
              "      <td>0000997932d777bf</td>\n",
              "      <td>0</td>\n",
              "      <td>0</td>\n",
              "      <td>0</td>\n",
              "      <td>0</td>\n",
              "      <td>0</td>\n",
              "      <td>0</td>\n",
              "      <td>explanation</td>\n",
              "    </tr>\n",
              "    <tr>\n",
              "      <th>0</th>\n",
              "      <td>0000997932d777bf</td>\n",
              "      <td>0</td>\n",
              "      <td>0</td>\n",
              "      <td>0</td>\n",
              "      <td>0</td>\n",
              "      <td>0</td>\n",
              "      <td>0</td>\n",
              "      <td>edits</td>\n",
              "    </tr>\n",
              "    <tr>\n",
              "      <th>0</th>\n",
              "      <td>0000997932d777bf</td>\n",
              "      <td>0</td>\n",
              "      <td>0</td>\n",
              "      <td>0</td>\n",
              "      <td>0</td>\n",
              "      <td>0</td>\n",
              "      <td>0</td>\n",
              "      <td>made</td>\n",
              "    </tr>\n",
              "    <tr>\n",
              "      <th>0</th>\n",
              "      <td>0000997932d777bf</td>\n",
              "      <td>0</td>\n",
              "      <td>0</td>\n",
              "      <td>0</td>\n",
              "      <td>0</td>\n",
              "      <td>0</td>\n",
              "      <td>0</td>\n",
              "      <td>username</td>\n",
              "    </tr>\n",
              "    <tr>\n",
              "      <th>0</th>\n",
              "      <td>0000997932d777bf</td>\n",
              "      <td>0</td>\n",
              "      <td>0</td>\n",
              "      <td>0</td>\n",
              "      <td>0</td>\n",
              "      <td>0</td>\n",
              "      <td>0</td>\n",
              "      <td>hardcore</td>\n",
              "    </tr>\n",
              "  </tbody>\n",
              "</table>\n",
              "</div>"
            ],
            "text/plain": [
              "                 id  toxic  severe_toxic  ...  insult  identity_hate        ngram\n",
              "0  0000997932d777bf      0             0  ...       0              0  explanation\n",
              "0  0000997932d777bf      0             0  ...       0              0        edits\n",
              "0  0000997932d777bf      0             0  ...       0              0         made\n",
              "0  0000997932d777bf      0             0  ...       0              0     username\n",
              "0  0000997932d777bf      0             0  ...       0              0     hardcore\n",
              "\n",
              "[5 rows x 8 columns]"
            ]
          },
          "metadata": {
            "tags": []
          },
          "execution_count": 7
        }
      ]
    },
    {
      "cell_type": "code",
      "metadata": {
        "colab": {
          "base_uri": "https://localhost:8080/",
          "height": 565
        },
        "id": "ROEbfStv4ZPv",
        "outputId": "ae25021b-b360-41bc-d863-2bf9de721252"
      },
      "source": [
        "df[df['id']=='0007e25b2121310b']"
      ],
      "execution_count": 60,
      "outputs": [
        {
          "output_type": "execute_result",
          "data": {
            "text/html": [
              "<div>\n",
              "<style scoped>\n",
              "    .dataframe tbody tr th:only-of-type {\n",
              "        vertical-align: middle;\n",
              "    }\n",
              "\n",
              "    .dataframe tbody tr th {\n",
              "        vertical-align: top;\n",
              "    }\n",
              "\n",
              "    .dataframe thead th {\n",
              "        text-align: right;\n",
              "    }\n",
              "</style>\n",
              "<table border=\"1\" class=\"dataframe\">\n",
              "  <thead>\n",
              "    <tr style=\"text-align: right;\">\n",
              "      <th></th>\n",
              "      <th>id</th>\n",
              "      <th>toxic</th>\n",
              "      <th>severe_toxic</th>\n",
              "      <th>obscene</th>\n",
              "      <th>threat</th>\n",
              "      <th>insult</th>\n",
              "      <th>identity_hate</th>\n",
              "      <th>ngram</th>\n",
              "    </tr>\n",
              "  </thead>\n",
              "  <tbody>\n",
              "    <tr>\n",
              "      <th>16</th>\n",
              "      <td>0007e25b2121310b</td>\n",
              "      <td>1</td>\n",
              "      <td>0</td>\n",
              "      <td>0</td>\n",
              "      <td>0</td>\n",
              "      <td>0</td>\n",
              "      <td>0</td>\n",
              "      <td>bye</td>\n",
              "    </tr>\n",
              "    <tr>\n",
              "      <th>16</th>\n",
              "      <td>0007e25b2121310b</td>\n",
              "      <td>1</td>\n",
              "      <td>0</td>\n",
              "      <td>0</td>\n",
              "      <td>0</td>\n",
              "      <td>0</td>\n",
              "      <td>0</td>\n",
              "      <td>look</td>\n",
              "    </tr>\n",
              "    <tr>\n",
              "      <th>16</th>\n",
              "      <td>0007e25b2121310b</td>\n",
              "      <td>1</td>\n",
              "      <td>0</td>\n",
              "      <td>0</td>\n",
              "      <td>0</td>\n",
              "      <td>0</td>\n",
              "      <td>0</td>\n",
              "      <td>come</td>\n",
              "    </tr>\n",
              "    <tr>\n",
              "      <th>16</th>\n",
              "      <td>0007e25b2121310b</td>\n",
              "      <td>1</td>\n",
              "      <td>0</td>\n",
              "      <td>0</td>\n",
              "      <td>0</td>\n",
              "      <td>0</td>\n",
              "      <td>0</td>\n",
              "      <td>think</td>\n",
              "    </tr>\n",
              "    <tr>\n",
              "      <th>16</th>\n",
              "      <td>0007e25b2121310b</td>\n",
              "      <td>1</td>\n",
              "      <td>0</td>\n",
              "      <td>0</td>\n",
              "      <td>0</td>\n",
              "      <td>0</td>\n",
              "      <td>0</td>\n",
              "      <td>comming</td>\n",
              "    </tr>\n",
              "    <tr>\n",
              "      <th>16</th>\n",
              "      <td>0007e25b2121310b</td>\n",
              "      <td>1</td>\n",
              "      <td>0</td>\n",
              "      <td>0</td>\n",
              "      <td>0</td>\n",
              "      <td>0</td>\n",
              "      <td>0</td>\n",
              "      <td>back</td>\n",
              "    </tr>\n",
              "    <tr>\n",
              "      <th>16</th>\n",
              "      <td>0007e25b2121310b</td>\n",
              "      <td>1</td>\n",
              "      <td>0</td>\n",
              "      <td>0</td>\n",
              "      <td>0</td>\n",
              "      <td>0</td>\n",
              "      <td>0</td>\n",
              "      <td>tosser</td>\n",
              "    </tr>\n",
              "    <tr>\n",
              "      <th>16</th>\n",
              "      <td>0007e25b2121310b</td>\n",
              "      <td>1</td>\n",
              "      <td>0</td>\n",
              "      <td>0</td>\n",
              "      <td>0</td>\n",
              "      <td>0</td>\n",
              "      <td>0</td>\n",
              "      <td>bye look</td>\n",
              "    </tr>\n",
              "    <tr>\n",
              "      <th>16</th>\n",
              "      <td>0007e25b2121310b</td>\n",
              "      <td>1</td>\n",
              "      <td>0</td>\n",
              "      <td>0</td>\n",
              "      <td>0</td>\n",
              "      <td>0</td>\n",
              "      <td>0</td>\n",
              "      <td>look come</td>\n",
              "    </tr>\n",
              "    <tr>\n",
              "      <th>16</th>\n",
              "      <td>0007e25b2121310b</td>\n",
              "      <td>1</td>\n",
              "      <td>0</td>\n",
              "      <td>0</td>\n",
              "      <td>0</td>\n",
              "      <td>0</td>\n",
              "      <td>0</td>\n",
              "      <td>come think</td>\n",
              "    </tr>\n",
              "    <tr>\n",
              "      <th>16</th>\n",
              "      <td>0007e25b2121310b</td>\n",
              "      <td>1</td>\n",
              "      <td>0</td>\n",
              "      <td>0</td>\n",
              "      <td>0</td>\n",
              "      <td>0</td>\n",
              "      <td>0</td>\n",
              "      <td>think comming</td>\n",
              "    </tr>\n",
              "    <tr>\n",
              "      <th>16</th>\n",
              "      <td>0007e25b2121310b</td>\n",
              "      <td>1</td>\n",
              "      <td>0</td>\n",
              "      <td>0</td>\n",
              "      <td>0</td>\n",
              "      <td>0</td>\n",
              "      <td>0</td>\n",
              "      <td>comming back</td>\n",
              "    </tr>\n",
              "    <tr>\n",
              "      <th>16</th>\n",
              "      <td>0007e25b2121310b</td>\n",
              "      <td>1</td>\n",
              "      <td>0</td>\n",
              "      <td>0</td>\n",
              "      <td>0</td>\n",
              "      <td>0</td>\n",
              "      <td>0</td>\n",
              "      <td>back tosser</td>\n",
              "    </tr>\n",
              "    <tr>\n",
              "      <th>16</th>\n",
              "      <td>0007e25b2121310b</td>\n",
              "      <td>1</td>\n",
              "      <td>0</td>\n",
              "      <td>0</td>\n",
              "      <td>0</td>\n",
              "      <td>0</td>\n",
              "      <td>0</td>\n",
              "      <td>bye look come</td>\n",
              "    </tr>\n",
              "    <tr>\n",
              "      <th>16</th>\n",
              "      <td>0007e25b2121310b</td>\n",
              "      <td>1</td>\n",
              "      <td>0</td>\n",
              "      <td>0</td>\n",
              "      <td>0</td>\n",
              "      <td>0</td>\n",
              "      <td>0</td>\n",
              "      <td>look come think</td>\n",
              "    </tr>\n",
              "    <tr>\n",
              "      <th>16</th>\n",
              "      <td>0007e25b2121310b</td>\n",
              "      <td>1</td>\n",
              "      <td>0</td>\n",
              "      <td>0</td>\n",
              "      <td>0</td>\n",
              "      <td>0</td>\n",
              "      <td>0</td>\n",
              "      <td>come think comming</td>\n",
              "    </tr>\n",
              "    <tr>\n",
              "      <th>16</th>\n",
              "      <td>0007e25b2121310b</td>\n",
              "      <td>1</td>\n",
              "      <td>0</td>\n",
              "      <td>0</td>\n",
              "      <td>0</td>\n",
              "      <td>0</td>\n",
              "      <td>0</td>\n",
              "      <td>think comming back</td>\n",
              "    </tr>\n",
              "    <tr>\n",
              "      <th>16</th>\n",
              "      <td>0007e25b2121310b</td>\n",
              "      <td>1</td>\n",
              "      <td>0</td>\n",
              "      <td>0</td>\n",
              "      <td>0</td>\n",
              "      <td>0</td>\n",
              "      <td>0</td>\n",
              "      <td>comming back tosser</td>\n",
              "    </tr>\n",
              "  </tbody>\n",
              "</table>\n",
              "</div>"
            ],
            "text/plain": [
              "                  id  toxic  ...  identity_hate                ngram\n",
              "16  0007e25b2121310b      1  ...              0                  bye\n",
              "16  0007e25b2121310b      1  ...              0                 look\n",
              "16  0007e25b2121310b      1  ...              0                 come\n",
              "16  0007e25b2121310b      1  ...              0                think\n",
              "16  0007e25b2121310b      1  ...              0              comming\n",
              "16  0007e25b2121310b      1  ...              0                 back\n",
              "16  0007e25b2121310b      1  ...              0               tosser\n",
              "16  0007e25b2121310b      1  ...              0             bye look\n",
              "16  0007e25b2121310b      1  ...              0            look come\n",
              "16  0007e25b2121310b      1  ...              0           come think\n",
              "16  0007e25b2121310b      1  ...              0        think comming\n",
              "16  0007e25b2121310b      1  ...              0         comming back\n",
              "16  0007e25b2121310b      1  ...              0          back tosser\n",
              "16  0007e25b2121310b      1  ...              0        bye look come\n",
              "16  0007e25b2121310b      1  ...              0      look come think\n",
              "16  0007e25b2121310b      1  ...              0   come think comming\n",
              "16  0007e25b2121310b      1  ...              0   think comming back\n",
              "16  0007e25b2121310b      1  ...              0  comming back tosser\n",
              "\n",
              "[18 rows x 8 columns]"
            ]
          },
          "metadata": {
            "tags": []
          },
          "execution_count": 60
        }
      ]
    },
    {
      "cell_type": "code",
      "metadata": {
        "id": "ejW0MW8r9F9o"
      },
      "source": [
        "from keras.preprocessing.text import Tokenizer\r\n",
        "from keras.preprocessing.sequence import pad_sequences\r\n",
        "from keras.utils import to_categorical\r\n",
        "from keras.models import Sequential\r\n",
        "from keras.layers import Dense,Dropout, LSTM, Embedding, Input\r\n",
        "from keras import metrics\r\n",
        "import keras"
      ],
      "execution_count": 38,
      "outputs": []
    },
    {
      "cell_type": "code",
      "metadata": {
        "colab": {
          "base_uri": "https://localhost:8080/"
        },
        "id": "eC7JWni091Sr",
        "outputId": "9e2b8464-a137-4831-cede-9a6aa86ff295"
      },
      "source": [
        "traind=df[[\"id\",\"ngram\"]]\r\n",
        "train_label=df[['toxic', 'severe_toxic', 'obscene', 'threat','insult', 'identity_hate']]\r\n",
        "tokenizer = Tokenizer(num_words = 20000)\r\n",
        "tokenizer.fit_on_texts(traind.ngram)\r\n",
        "train_final = tokenizer.texts_to_sequences(traind.ngram)\r\n",
        "traind['ngram']=pad_sequences(train_final, maxlen=5)"
      ],
      "execution_count": 32,
      "outputs": [
        {
          "output_type": "stream",
          "text": [
            "/usr/local/lib/python3.6/dist-packages/ipykernel_launcher.py:6: SettingWithCopyWarning: \n",
            "A value is trying to be set on a copy of a slice from a DataFrame.\n",
            "Try using .loc[row_indexer,col_indexer] = value instead\n",
            "\n",
            "See the caveats in the documentation: https://pandas.pydata.org/pandas-docs/stable/user_guide/indexing.html#returning-a-view-versus-a-copy\n",
            "  \n"
          ],
          "name": "stderr"
        }
      ]
    },
    {
      "cell_type": "code",
      "metadata": {
        "colab": {
          "base_uri": "https://localhost:8080/"
        },
        "id": "pfDW0ebc98EK",
        "outputId": "160c89a5-e96c-4493-ea62-f1027b9f122f"
      },
      "source": [
        "print(traind.shape,train_label.shape)"
      ],
      "execution_count": 33,
      "outputs": [
        {
          "output_type": "stream",
          "text": [
            "(15739832, 2) (15739832, 6)\n"
          ],
          "name": "stdout"
        }
      ]
    },
    {
      "cell_type": "code",
      "metadata": {
        "id": "GKznkuec-gZB"
      },
      "source": [
        "max_features = 20000\r\n",
        "embedding_dims = 32"
      ],
      "execution_count": 34,
      "outputs": []
    },
    {
      "cell_type": "code",
      "metadata": {
        "colab": {
          "base_uri": "https://localhost:8080/"
        },
        "id": "9ujYAc7y-g5Z",
        "outputId": "abab6b6e-3a0d-4644-bc06-8fa70b1e070b"
      },
      "source": [
        "model = Sequential()\r\n",
        "model.add(Embedding(max_features, embedding_dims))\r\n",
        "model.add(LSTM(units = embedding_dims, dropout = 0.2, recurrent_dropout = 0.2,return_sequences=True))\r\n",
        "model.add(LSTM(units = embedding_dims, dropout = 0.2, recurrent_dropout = 0.2))\r\n",
        "model.add(Dense(units = 6, activation = 'sigmoid'))\r\n",
        "model.summary()"
      ],
      "execution_count": 35,
      "outputs": [
        {
          "output_type": "stream",
          "text": [
            "Model: \"sequential_1\"\n",
            "_________________________________________________________________\n",
            "Layer (type)                 Output Shape              Param #   \n",
            "=================================================================\n",
            "embedding_1 (Embedding)      (None, None, 32)          640000    \n",
            "_________________________________________________________________\n",
            "lstm_2 (LSTM)                (None, None, 32)          8320      \n",
            "_________________________________________________________________\n",
            "lstm_3 (LSTM)                (None, 32)                8320      \n",
            "_________________________________________________________________\n",
            "dense_1 (Dense)              (None, 6)                 198       \n",
            "=================================================================\n",
            "Total params: 656,838\n",
            "Trainable params: 656,838\n",
            "Non-trainable params: 0\n",
            "_________________________________________________________________\n"
          ],
          "name": "stdout"
        }
      ]
    },
    {
      "cell_type": "code",
      "metadata": {
        "colab": {
          "base_uri": "https://localhost:8080/"
        },
        "id": "wI-AfG2N-nzi",
        "outputId": "4fb24acb-b212-45da-de57-551545fc2f56"
      },
      "source": [
        "from sklearn.model_selection import train_test_split\r\n",
        "model.compile(loss = \"binary_crossentropy\", optimizer = \"adam\", metrics = [metrics.AUC(),metrics.Recall(), metrics.Accuracy(), metrics.Precision()])\r\n",
        "x_train, x_val, y_train, y_val = train_test_split(traind, train_label, shuffle = True, random_state = 123)\r\n",
        "print(x_train.shape, y_train.shape, x_val.shape, y_val.shape)\r\n",
        "model.fit(x_train['ngram'], y_train, batch_size = 4096, epochs = 1, validation_data = (x_val['ngram'], y_val))"
      ],
      "execution_count": 40,
      "outputs": [
        {
          "output_type": "stream",
          "text": [
            "(11804874, 2) (11804874, 6) (3934958, 2) (3934958, 6)\n",
            "2883/2883 [==============================] - 376s 128ms/step - loss: 0.1853 - auc_2: 0.6851 - recall_2: 0.0037 - accuracy: 0.0000e+00 - precision_2: 0.0398 - val_loss: 0.1247 - val_auc_2: 0.7354 - val_recall_2: 0.0000e+00 - val_accuracy: 0.0000e+00 - val_precision_2: 0.0000e+00\n"
          ],
          "name": "stdout"
        },
        {
          "output_type": "execute_result",
          "data": {
            "text/plain": [
              "<tensorflow.python.keras.callbacks.History at 0x7fe670572a58>"
            ]
          },
          "metadata": {
            "tags": []
          },
          "execution_count": 40
        }
      ]
    },
    {
      "cell_type": "code",
      "metadata": {
        "colab": {
          "base_uri": "https://localhost:8080/"
        },
        "id": "1FhkKjmD-oMK",
        "outputId": "4762a1ac-f6ff-4f97-89db-4400de0683e5"
      },
      "source": [
        "model.save('Text_Classification_ngram')"
      ],
      "execution_count": 41,
      "outputs": [
        {
          "output_type": "stream",
          "text": [
            "INFO:tensorflow:Assets written to: Text_Classification_ngram/assets\n"
          ],
          "name": "stdout"
        }
      ]
    },
    {
      "cell_type": "code",
      "metadata": {
        "id": "kXhFFTNN-rhP"
      },
      "source": [
        "model = keras.models.load_model('Text_Classification_ngram')"
      ],
      "execution_count": 42,
      "outputs": []
    },
    {
      "cell_type": "code",
      "metadata": {
        "id": "GpHePU8R-t-s"
      },
      "source": [
        "pred = model.predict(x_val['ngram'])\r\n",
        "\r\n",
        "tags = ['toxic', 'severe_toxic', 'obscene', 'threat','insult', 'identity_hate']"
      ],
      "execution_count": 44,
      "outputs": []
    },
    {
      "cell_type": "code",
      "metadata": {
        "colab": {
          "base_uri": "https://localhost:8080/"
        },
        "id": "R0wuVItW-xLe",
        "outputId": "f44a2610-bf00-4046-c7a3-3eca090ae3d7"
      },
      "source": [
        "pred.shape"
      ],
      "execution_count": 45,
      "outputs": [
        {
          "output_type": "execute_result",
          "data": {
            "text/plain": [
              "(3934958, 6)"
            ]
          },
          "metadata": {
            "tags": []
          },
          "execution_count": 45
        }
      ]
    },
    {
      "cell_type": "code",
      "metadata": {
        "colab": {
          "base_uri": "https://localhost:8080/"
        },
        "id": "iP5vDtKzIp8O",
        "outputId": "63967ae6-a586-4e6c-f75e-c49dbc1958b4"
      },
      "source": [
        "pred"
      ],
      "execution_count": 46,
      "outputs": [
        {
          "output_type": "execute_result",
          "data": {
            "text/plain": [
              "array([[0.07959169, 0.01409069, 0.04272494, 0.00256628, 0.03771845,\n",
              "        0.00832018],\n",
              "       [0.07959169, 0.01409069, 0.04272494, 0.00256628, 0.03771845,\n",
              "        0.00832018],\n",
              "       [0.07959169, 0.01409069, 0.04272494, 0.00256628, 0.03771845,\n",
              "        0.00832018],\n",
              "       ...,\n",
              "       [0.07959169, 0.01409069, 0.04272494, 0.00256628, 0.03771845,\n",
              "        0.00832018],\n",
              "       [0.07959169, 0.01409069, 0.04272494, 0.00256634, 0.03771845,\n",
              "        0.00832018],\n",
              "       [0.07959169, 0.01409069, 0.04272494, 0.00256634, 0.03771845,\n",
              "        0.00832018]], dtype=float32)"
            ]
          },
          "metadata": {
            "tags": []
          },
          "execution_count": 46
        }
      ]
    },
    {
      "cell_type": "code",
      "metadata": {
        "id": "VQeoQMmmRUwU"
      },
      "source": [
        "pred_df = pd.DataFrame(pred, columns = tags)"
      ],
      "execution_count": 55,
      "outputs": []
    },
    {
      "cell_type": "code",
      "metadata": {
        "colab": {
          "base_uri": "https://localhost:8080/"
        },
        "id": "-4_3YnW0jNlp",
        "outputId": "702c2885-f597-45b3-9b22-9050c63ea08f"
      },
      "source": [
        "from sklearn.metrics import f1_score\r\n",
        "\r\n",
        "N = 50\r\n",
        "threshold = [n / N for n in range(1,N)]\r\n",
        "threshold_max = dict(zip(tags,[0]*6))\r\n",
        "threshold_argmax = dict(zip(tags,[0]*6))\r\n",
        "for i in tags:\r\n",
        "  for t in threshold:\r\n",
        "    pred_df['tmp'] = (pred_df[i]>= t).astype(int)\r\n",
        "    score = f1_score(y_val[i], pred_df['tmp'])\r\n",
        "    if score==0:\r\n",
        "      break\r\n",
        "    if(score > threshold_max[i]):\r\n",
        "      threshold_max[i] = score\r\n",
        "      threshold_argmax[i] = t\r\n",
        "\r\n",
        "    print(\"%s : f1 score for threshold %0.2f :   %0.3f\" %(i, t, score ))\r\n",
        "pred_df.drop(columns  = 'tmp', inplace=True)\r\n",
        "print(threshold_max)\r\n",
        "print(threshold_argmax)"
      ],
      "execution_count": 53,
      "outputs": [
        {
          "output_type": "stream",
          "text": [
            "toxic : f1 score for threshold 0.02 :   0.143\n",
            "toxic : f1 score for threshold 0.04 :   0.143\n",
            "toxic : f1 score for threshold 0.06 :   0.143\n",
            "toxic : f1 score for threshold 0.08 :   0.143\n",
            "toxic : f1 score for threshold 0.10 :   0.143\n",
            "toxic : f1 score for threshold 0.12 :   0.143\n",
            "toxic : f1 score for threshold 0.14 :   0.143\n",
            "toxic : f1 score for threshold 0.16 :   0.143\n",
            "toxic : f1 score for threshold 0.18 :   0.143\n",
            "toxic : f1 score for threshold 0.20 :   0.143\n",
            "toxic : f1 score for threshold 0.22 :   0.143\n",
            "toxic : f1 score for threshold 0.24 :   0.143\n",
            "toxic : f1 score for threshold 0.26 :   0.143\n",
            "toxic : f1 score for threshold 0.28 :   0.143\n",
            "toxic : f1 score for threshold 0.30 :   0.143\n",
            "toxic : f1 score for threshold 0.32 :   0.143\n",
            "toxic : f1 score for threshold 0.34 :   0.143\n",
            "toxic : f1 score for threshold 0.36 :   0.143\n",
            "toxic : f1 score for threshold 0.38 :   0.143\n",
            "toxic : f1 score for threshold 0.40 :   0.143\n",
            "toxic : f1 score for threshold 0.42 :   0.143\n",
            "toxic : f1 score for threshold 0.44 :   0.143\n",
            "toxic : f1 score for threshold 0.46 :   0.143\n",
            "toxic : f1 score for threshold 0.48 :   0.143\n",
            "toxic : f1 score for threshold 0.50 :   0.143\n",
            "toxic : f1 score for threshold 0.52 :   0.143\n",
            "toxic : f1 score for threshold 0.54 :   0.143\n",
            "toxic : f1 score for threshold 0.56 :   0.143\n",
            "toxic : f1 score for threshold 0.58 :   0.143\n",
            "toxic : f1 score for threshold 0.60 :   0.143\n",
            "toxic : f1 score for threshold 0.62 :   0.143\n",
            "toxic : f1 score for threshold 0.64 :   0.143\n",
            "toxic : f1 score for threshold 0.66 :   0.143\n",
            "toxic : f1 score for threshold 0.68 :   0.143\n",
            "toxic : f1 score for threshold 0.70 :   0.143\n",
            "toxic : f1 score for threshold 0.72 :   0.143\n",
            "toxic : f1 score for threshold 0.74 :   0.143\n",
            "toxic : f1 score for threshold 0.76 :   0.143\n",
            "toxic : f1 score for threshold 0.78 :   0.143\n",
            "toxic : f1 score for threshold 0.80 :   0.143\n",
            "toxic : f1 score for threshold 0.82 :   0.143\n",
            "toxic : f1 score for threshold 0.84 :   0.143\n",
            "toxic : f1 score for threshold 0.86 :   0.143\n",
            "toxic : f1 score for threshold 0.88 :   0.143\n",
            "toxic : f1 score for threshold 0.90 :   0.143\n",
            "toxic : f1 score for threshold 0.92 :   0.143\n",
            "toxic : f1 score for threshold 0.94 :   0.143\n",
            "toxic : f1 score for threshold 0.96 :   0.143\n",
            "toxic : f1 score for threshold 0.98 :   0.143\n",
            "severe_toxic : f1 score for threshold 0.02 :   0.028\n",
            "severe_toxic : f1 score for threshold 0.04 :   0.028\n",
            "severe_toxic : f1 score for threshold 0.06 :   0.028\n",
            "severe_toxic : f1 score for threshold 0.08 :   0.028\n",
            "severe_toxic : f1 score for threshold 0.10 :   0.028\n",
            "severe_toxic : f1 score for threshold 0.12 :   0.028\n",
            "severe_toxic : f1 score for threshold 0.14 :   0.028\n",
            "severe_toxic : f1 score for threshold 0.16 :   0.028\n",
            "severe_toxic : f1 score for threshold 0.18 :   0.028\n",
            "severe_toxic : f1 score for threshold 0.20 :   0.028\n",
            "severe_toxic : f1 score for threshold 0.22 :   0.028\n",
            "severe_toxic : f1 score for threshold 0.24 :   0.028\n",
            "severe_toxic : f1 score for threshold 0.26 :   0.028\n",
            "severe_toxic : f1 score for threshold 0.28 :   0.028\n",
            "severe_toxic : f1 score for threshold 0.30 :   0.028\n",
            "severe_toxic : f1 score for threshold 0.32 :   0.028\n",
            "severe_toxic : f1 score for threshold 0.34 :   0.028\n",
            "severe_toxic : f1 score for threshold 0.36 :   0.028\n",
            "severe_toxic : f1 score for threshold 0.38 :   0.028\n",
            "severe_toxic : f1 score for threshold 0.40 :   0.028\n",
            "severe_toxic : f1 score for threshold 0.42 :   0.028\n",
            "severe_toxic : f1 score for threshold 0.44 :   0.028\n",
            "severe_toxic : f1 score for threshold 0.46 :   0.028\n",
            "severe_toxic : f1 score for threshold 0.48 :   0.028\n",
            "severe_toxic : f1 score for threshold 0.50 :   0.028\n",
            "severe_toxic : f1 score for threshold 0.52 :   0.028\n",
            "severe_toxic : f1 score for threshold 0.54 :   0.028\n",
            "severe_toxic : f1 score for threshold 0.56 :   0.028\n",
            "severe_toxic : f1 score for threshold 0.58 :   0.028\n",
            "severe_toxic : f1 score for threshold 0.60 :   0.028\n",
            "severe_toxic : f1 score for threshold 0.62 :   0.028\n",
            "severe_toxic : f1 score for threshold 0.64 :   0.028\n",
            "severe_toxic : f1 score for threshold 0.66 :   0.028\n",
            "severe_toxic : f1 score for threshold 0.68 :   0.028\n",
            "severe_toxic : f1 score for threshold 0.70 :   0.028\n",
            "severe_toxic : f1 score for threshold 0.72 :   0.028\n",
            "severe_toxic : f1 score for threshold 0.74 :   0.028\n",
            "severe_toxic : f1 score for threshold 0.76 :   0.028\n",
            "severe_toxic : f1 score for threshold 0.78 :   0.028\n",
            "severe_toxic : f1 score for threshold 0.80 :   0.028\n",
            "severe_toxic : f1 score for threshold 0.82 :   0.028\n",
            "severe_toxic : f1 score for threshold 0.84 :   0.028\n",
            "severe_toxic : f1 score for threshold 0.86 :   0.028\n",
            "severe_toxic : f1 score for threshold 0.88 :   0.028\n",
            "severe_toxic : f1 score for threshold 0.90 :   0.028\n",
            "severe_toxic : f1 score for threshold 0.92 :   0.028\n",
            "severe_toxic : f1 score for threshold 0.94 :   0.028\n",
            "severe_toxic : f1 score for threshold 0.96 :   0.028\n",
            "severe_toxic : f1 score for threshold 0.98 :   0.028\n",
            "obscene : f1 score for threshold 0.02 :   0.081\n",
            "obscene : f1 score for threshold 0.04 :   0.081\n",
            "obscene : f1 score for threshold 0.06 :   0.081\n",
            "obscene : f1 score for threshold 0.08 :   0.081\n",
            "obscene : f1 score for threshold 0.10 :   0.081\n",
            "obscene : f1 score for threshold 0.12 :   0.081\n",
            "obscene : f1 score for threshold 0.14 :   0.081\n",
            "obscene : f1 score for threshold 0.16 :   0.081\n",
            "obscene : f1 score for threshold 0.18 :   0.081\n",
            "obscene : f1 score for threshold 0.20 :   0.081\n",
            "obscene : f1 score for threshold 0.22 :   0.081\n",
            "obscene : f1 score for threshold 0.24 :   0.081\n",
            "obscene : f1 score for threshold 0.26 :   0.081\n",
            "obscene : f1 score for threshold 0.28 :   0.081\n",
            "obscene : f1 score for threshold 0.30 :   0.081\n",
            "obscene : f1 score for threshold 0.32 :   0.081\n",
            "obscene : f1 score for threshold 0.34 :   0.081\n",
            "obscene : f1 score for threshold 0.36 :   0.081\n",
            "obscene : f1 score for threshold 0.38 :   0.081\n",
            "obscene : f1 score for threshold 0.40 :   0.081\n",
            "obscene : f1 score for threshold 0.42 :   0.081\n",
            "obscene : f1 score for threshold 0.44 :   0.081\n",
            "obscene : f1 score for threshold 0.46 :   0.081\n",
            "obscene : f1 score for threshold 0.48 :   0.081\n",
            "obscene : f1 score for threshold 0.50 :   0.081\n",
            "obscene : f1 score for threshold 0.52 :   0.081\n",
            "obscene : f1 score for threshold 0.54 :   0.081\n",
            "obscene : f1 score for threshold 0.56 :   0.081\n",
            "obscene : f1 score for threshold 0.58 :   0.081\n",
            "obscene : f1 score for threshold 0.60 :   0.081\n",
            "obscene : f1 score for threshold 0.62 :   0.081\n",
            "obscene : f1 score for threshold 0.64 :   0.081\n",
            "obscene : f1 score for threshold 0.66 :   0.081\n",
            "obscene : f1 score for threshold 0.68 :   0.081\n",
            "obscene : f1 score for threshold 0.70 :   0.081\n",
            "obscene : f1 score for threshold 0.72 :   0.081\n",
            "obscene : f1 score for threshold 0.74 :   0.081\n",
            "obscene : f1 score for threshold 0.76 :   0.081\n",
            "obscene : f1 score for threshold 0.78 :   0.081\n",
            "obscene : f1 score for threshold 0.80 :   0.081\n",
            "obscene : f1 score for threshold 0.82 :   0.081\n",
            "obscene : f1 score for threshold 0.84 :   0.081\n",
            "obscene : f1 score for threshold 0.86 :   0.081\n",
            "obscene : f1 score for threshold 0.88 :   0.081\n",
            "obscene : f1 score for threshold 0.90 :   0.081\n",
            "obscene : f1 score for threshold 0.92 :   0.081\n",
            "obscene : f1 score for threshold 0.94 :   0.081\n",
            "obscene : f1 score for threshold 0.96 :   0.081\n",
            "obscene : f1 score for threshold 0.98 :   0.081\n",
            "threat : f1 score for threshold 0.02 :   0.005\n",
            "threat : f1 score for threshold 0.04 :   0.005\n",
            "threat : f1 score for threshold 0.06 :   0.005\n",
            "threat : f1 score for threshold 0.08 :   0.005\n",
            "threat : f1 score for threshold 0.10 :   0.005\n",
            "threat : f1 score for threshold 0.12 :   0.005\n",
            "threat : f1 score for threshold 0.14 :   0.005\n",
            "threat : f1 score for threshold 0.16 :   0.005\n",
            "threat : f1 score for threshold 0.18 :   0.005\n",
            "threat : f1 score for threshold 0.20 :   0.005\n",
            "threat : f1 score for threshold 0.22 :   0.005\n",
            "threat : f1 score for threshold 0.24 :   0.005\n",
            "threat : f1 score for threshold 0.26 :   0.005\n",
            "threat : f1 score for threshold 0.28 :   0.005\n",
            "threat : f1 score for threshold 0.30 :   0.005\n",
            "threat : f1 score for threshold 0.32 :   0.005\n",
            "threat : f1 score for threshold 0.34 :   0.005\n",
            "threat : f1 score for threshold 0.36 :   0.005\n",
            "threat : f1 score for threshold 0.38 :   0.005\n",
            "threat : f1 score for threshold 0.40 :   0.005\n",
            "threat : f1 score for threshold 0.42 :   0.005\n",
            "threat : f1 score for threshold 0.44 :   0.005\n",
            "threat : f1 score for threshold 0.46 :   0.005\n",
            "threat : f1 score for threshold 0.48 :   0.005\n",
            "threat : f1 score for threshold 0.50 :   0.005\n",
            "threat : f1 score for threshold 0.52 :   0.005\n",
            "threat : f1 score for threshold 0.54 :   0.005\n",
            "threat : f1 score for threshold 0.56 :   0.005\n",
            "threat : f1 score for threshold 0.58 :   0.005\n",
            "threat : f1 score for threshold 0.60 :   0.005\n",
            "threat : f1 score for threshold 0.62 :   0.005\n",
            "threat : f1 score for threshold 0.64 :   0.005\n",
            "threat : f1 score for threshold 0.66 :   0.005\n",
            "threat : f1 score for threshold 0.68 :   0.005\n",
            "threat : f1 score for threshold 0.70 :   0.005\n",
            "threat : f1 score for threshold 0.72 :   0.005\n",
            "threat : f1 score for threshold 0.74 :   0.005\n",
            "threat : f1 score for threshold 0.76 :   0.005\n",
            "threat : f1 score for threshold 0.78 :   0.005\n",
            "threat : f1 score for threshold 0.80 :   0.005\n",
            "threat : f1 score for threshold 0.82 :   0.005\n",
            "threat : f1 score for threshold 0.84 :   0.005\n",
            "threat : f1 score for threshold 0.86 :   0.005\n",
            "threat : f1 score for threshold 0.88 :   0.005\n",
            "threat : f1 score for threshold 0.90 :   0.005\n",
            "threat : f1 score for threshold 0.92 :   0.005\n",
            "threat : f1 score for threshold 0.94 :   0.005\n",
            "threat : f1 score for threshold 0.96 :   0.005\n",
            "threat : f1 score for threshold 0.98 :   0.005\n",
            "insult : f1 score for threshold 0.02 :   0.074\n",
            "insult : f1 score for threshold 0.04 :   0.074\n",
            "insult : f1 score for threshold 0.06 :   0.074\n",
            "insult : f1 score for threshold 0.08 :   0.074\n",
            "insult : f1 score for threshold 0.10 :   0.074\n",
            "insult : f1 score for threshold 0.12 :   0.074\n",
            "insult : f1 score for threshold 0.14 :   0.074\n",
            "insult : f1 score for threshold 0.16 :   0.074\n",
            "insult : f1 score for threshold 0.18 :   0.074\n",
            "insult : f1 score for threshold 0.20 :   0.074\n",
            "insult : f1 score for threshold 0.22 :   0.074\n",
            "insult : f1 score for threshold 0.24 :   0.074\n",
            "insult : f1 score for threshold 0.26 :   0.074\n",
            "insult : f1 score for threshold 0.28 :   0.074\n",
            "insult : f1 score for threshold 0.30 :   0.074\n",
            "insult : f1 score for threshold 0.32 :   0.074\n",
            "insult : f1 score for threshold 0.34 :   0.074\n",
            "insult : f1 score for threshold 0.36 :   0.074\n",
            "insult : f1 score for threshold 0.38 :   0.074\n",
            "insult : f1 score for threshold 0.40 :   0.074\n",
            "insult : f1 score for threshold 0.42 :   0.074\n",
            "insult : f1 score for threshold 0.44 :   0.074\n",
            "insult : f1 score for threshold 0.46 :   0.074\n",
            "insult : f1 score for threshold 0.48 :   0.074\n",
            "insult : f1 score for threshold 0.50 :   0.074\n",
            "insult : f1 score for threshold 0.52 :   0.074\n",
            "insult : f1 score for threshold 0.54 :   0.074\n",
            "insult : f1 score for threshold 0.56 :   0.074\n",
            "insult : f1 score for threshold 0.58 :   0.074\n",
            "insult : f1 score for threshold 0.60 :   0.074\n",
            "insult : f1 score for threshold 0.62 :   0.074\n",
            "insult : f1 score for threshold 0.64 :   0.074\n",
            "insult : f1 score for threshold 0.66 :   0.074\n",
            "insult : f1 score for threshold 0.68 :   0.074\n",
            "insult : f1 score for threshold 0.70 :   0.074\n",
            "insult : f1 score for threshold 0.72 :   0.074\n",
            "insult : f1 score for threshold 0.74 :   0.074\n",
            "insult : f1 score for threshold 0.76 :   0.074\n",
            "insult : f1 score for threshold 0.78 :   0.074\n",
            "insult : f1 score for threshold 0.80 :   0.074\n",
            "insult : f1 score for threshold 0.82 :   0.074\n",
            "insult : f1 score for threshold 0.84 :   0.074\n",
            "insult : f1 score for threshold 0.86 :   0.074\n",
            "insult : f1 score for threshold 0.88 :   0.074\n",
            "insult : f1 score for threshold 0.90 :   0.074\n",
            "insult : f1 score for threshold 0.92 :   0.074\n",
            "insult : f1 score for threshold 0.94 :   0.074\n",
            "insult : f1 score for threshold 0.96 :   0.074\n",
            "insult : f1 score for threshold 0.98 :   0.074\n",
            "identity_hate : f1 score for threshold 0.02 :   0.016\n",
            "identity_hate : f1 score for threshold 0.04 :   0.016\n",
            "identity_hate : f1 score for threshold 0.06 :   0.016\n",
            "identity_hate : f1 score for threshold 0.08 :   0.016\n",
            "identity_hate : f1 score for threshold 0.10 :   0.016\n",
            "identity_hate : f1 score for threshold 0.12 :   0.016\n",
            "identity_hate : f1 score for threshold 0.14 :   0.016\n",
            "identity_hate : f1 score for threshold 0.16 :   0.016\n",
            "identity_hate : f1 score for threshold 0.18 :   0.016\n",
            "identity_hate : f1 score for threshold 0.20 :   0.016\n",
            "identity_hate : f1 score for threshold 0.22 :   0.016\n",
            "identity_hate : f1 score for threshold 0.24 :   0.016\n",
            "identity_hate : f1 score for threshold 0.26 :   0.016\n",
            "identity_hate : f1 score for threshold 0.28 :   0.016\n",
            "identity_hate : f1 score for threshold 0.30 :   0.016\n",
            "identity_hate : f1 score for threshold 0.32 :   0.016\n",
            "identity_hate : f1 score for threshold 0.34 :   0.016\n",
            "identity_hate : f1 score for threshold 0.36 :   0.016\n",
            "identity_hate : f1 score for threshold 0.38 :   0.016\n",
            "identity_hate : f1 score for threshold 0.40 :   0.016\n",
            "identity_hate : f1 score for threshold 0.42 :   0.016\n",
            "identity_hate : f1 score for threshold 0.44 :   0.016\n",
            "identity_hate : f1 score for threshold 0.46 :   0.016\n",
            "identity_hate : f1 score for threshold 0.48 :   0.016\n",
            "identity_hate : f1 score for threshold 0.50 :   0.016\n",
            "identity_hate : f1 score for threshold 0.52 :   0.016\n",
            "identity_hate : f1 score for threshold 0.54 :   0.016\n",
            "identity_hate : f1 score for threshold 0.56 :   0.016\n",
            "identity_hate : f1 score for threshold 0.58 :   0.016\n",
            "identity_hate : f1 score for threshold 0.60 :   0.016\n",
            "identity_hate : f1 score for threshold 0.62 :   0.016\n",
            "identity_hate : f1 score for threshold 0.64 :   0.016\n",
            "identity_hate : f1 score for threshold 0.66 :   0.016\n",
            "identity_hate : f1 score for threshold 0.68 :   0.016\n",
            "identity_hate : f1 score for threshold 0.70 :   0.016\n",
            "identity_hate : f1 score for threshold 0.72 :   0.016\n",
            "identity_hate : f1 score for threshold 0.74 :   0.016\n",
            "identity_hate : f1 score for threshold 0.76 :   0.016\n",
            "identity_hate : f1 score for threshold 0.78 :   0.016\n",
            "identity_hate : f1 score for threshold 0.80 :   0.016\n",
            "identity_hate : f1 score for threshold 0.82 :   0.016\n",
            "identity_hate : f1 score for threshold 0.84 :   0.016\n",
            "identity_hate : f1 score for threshold 0.86 :   0.016\n",
            "identity_hate : f1 score for threshold 0.88 :   0.016\n",
            "identity_hate : f1 score for threshold 0.90 :   0.016\n",
            "identity_hate : f1 score for threshold 0.92 :   0.016\n",
            "identity_hate : f1 score for threshold 0.94 :   0.016\n",
            "identity_hate : f1 score for threshold 0.96 :   0.016\n",
            "identity_hate : f1 score for threshold 0.98 :   0.016\n",
            "{'toxic': 0.14331803225470835, 'severe_toxic': 0.027569212508001335, 'obscene': 0.08105074687423724, 'threat': 0.005076336429342573, 'insult': 0.07371791341526605, 'identity_hate': 0.016285286930885837}\n",
            "{'toxic': 0.02, 'severe_toxic': 0.02, 'obscene': 0.02, 'threat': 0.02, 'insult': 0.02, 'identity_hate': 0.02}\n"
          ],
          "name": "stdout"
        }
      ]
    },
    {
      "cell_type": "code",
      "metadata": {
        "id": "tgUK4LdHjPbB"
      },
      "source": [
        "for i in tags:\r\n",
        "  pred_df[i] = (pred_df[i]>= threshold_argmax[i]).astype(int)"
      ],
      "execution_count": 52,
      "outputs": []
    },
    {
      "cell_type": "code",
      "metadata": {
        "colab": {
          "base_uri": "https://localhost:8080/",
          "height": 191
        },
        "id": "ih9BJUy7jTks",
        "outputId": "6211dd89-e610-4f74-e1d5-a914e4e92285"
      },
      "source": [
        "pred_df.tail()"
      ],
      "execution_count": 57,
      "outputs": [
        {
          "output_type": "execute_result",
          "data": {
            "text/html": [
              "<div>\n",
              "<style scoped>\n",
              "    .dataframe tbody tr th:only-of-type {\n",
              "        vertical-align: middle;\n",
              "    }\n",
              "\n",
              "    .dataframe tbody tr th {\n",
              "        vertical-align: top;\n",
              "    }\n",
              "\n",
              "    .dataframe thead th {\n",
              "        text-align: right;\n",
              "    }\n",
              "</style>\n",
              "<table border=\"1\" class=\"dataframe\">\n",
              "  <thead>\n",
              "    <tr style=\"text-align: right;\">\n",
              "      <th></th>\n",
              "      <th>toxic</th>\n",
              "      <th>severe_toxic</th>\n",
              "      <th>obscene</th>\n",
              "      <th>threat</th>\n",
              "      <th>insult</th>\n",
              "      <th>identity_hate</th>\n",
              "    </tr>\n",
              "  </thead>\n",
              "  <tbody>\n",
              "    <tr>\n",
              "      <th>3934953</th>\n",
              "      <td>0.079592</td>\n",
              "      <td>0.014091</td>\n",
              "      <td>0.042725</td>\n",
              "      <td>0.002566</td>\n",
              "      <td>0.037718</td>\n",
              "      <td>0.00832</td>\n",
              "    </tr>\n",
              "    <tr>\n",
              "      <th>3934954</th>\n",
              "      <td>0.079592</td>\n",
              "      <td>0.014091</td>\n",
              "      <td>0.042725</td>\n",
              "      <td>0.002566</td>\n",
              "      <td>0.037718</td>\n",
              "      <td>0.00832</td>\n",
              "    </tr>\n",
              "    <tr>\n",
              "      <th>3934955</th>\n",
              "      <td>0.079592</td>\n",
              "      <td>0.014091</td>\n",
              "      <td>0.042725</td>\n",
              "      <td>0.002566</td>\n",
              "      <td>0.037718</td>\n",
              "      <td>0.00832</td>\n",
              "    </tr>\n",
              "    <tr>\n",
              "      <th>3934956</th>\n",
              "      <td>0.079592</td>\n",
              "      <td>0.014091</td>\n",
              "      <td>0.042725</td>\n",
              "      <td>0.002566</td>\n",
              "      <td>0.037718</td>\n",
              "      <td>0.00832</td>\n",
              "    </tr>\n",
              "    <tr>\n",
              "      <th>3934957</th>\n",
              "      <td>0.079592</td>\n",
              "      <td>0.014091</td>\n",
              "      <td>0.042725</td>\n",
              "      <td>0.002566</td>\n",
              "      <td>0.037718</td>\n",
              "      <td>0.00832</td>\n",
              "    </tr>\n",
              "  </tbody>\n",
              "</table>\n",
              "</div>"
            ],
            "text/plain": [
              "            toxic  severe_toxic   obscene    threat    insult  identity_hate\n",
              "3934953  0.079592      0.014091  0.042725  0.002566  0.037718        0.00832\n",
              "3934954  0.079592      0.014091  0.042725  0.002566  0.037718        0.00832\n",
              "3934955  0.079592      0.014091  0.042725  0.002566  0.037718        0.00832\n",
              "3934956  0.079592      0.014091  0.042725  0.002566  0.037718        0.00832\n",
              "3934957  0.079592      0.014091  0.042725  0.002566  0.037718        0.00832"
            ]
          },
          "metadata": {
            "tags": []
          },
          "execution_count": 57
        }
      ]
    },
    {
      "cell_type": "code",
      "metadata": {
        "colab": {
          "base_uri": "https://localhost:8080/",
          "height": 191
        },
        "id": "wHbwGVMpm9lA",
        "outputId": "45e48b7c-de7b-4b3c-879d-373f38752584"
      },
      "source": [
        "pred_df.tail()"
      ],
      "execution_count": 58,
      "outputs": [
        {
          "output_type": "execute_result",
          "data": {
            "text/html": [
              "<div>\n",
              "<style scoped>\n",
              "    .dataframe tbody tr th:only-of-type {\n",
              "        vertical-align: middle;\n",
              "    }\n",
              "\n",
              "    .dataframe tbody tr th {\n",
              "        vertical-align: top;\n",
              "    }\n",
              "\n",
              "    .dataframe thead th {\n",
              "        text-align: right;\n",
              "    }\n",
              "</style>\n",
              "<table border=\"1\" class=\"dataframe\">\n",
              "  <thead>\n",
              "    <tr style=\"text-align: right;\">\n",
              "      <th></th>\n",
              "      <th>toxic</th>\n",
              "      <th>severe_toxic</th>\n",
              "      <th>obscene</th>\n",
              "      <th>threat</th>\n",
              "      <th>insult</th>\n",
              "      <th>identity_hate</th>\n",
              "    </tr>\n",
              "  </thead>\n",
              "  <tbody>\n",
              "    <tr>\n",
              "      <th>3934953</th>\n",
              "      <td>0.079592</td>\n",
              "      <td>0.014091</td>\n",
              "      <td>0.042725</td>\n",
              "      <td>0.002566</td>\n",
              "      <td>0.037718</td>\n",
              "      <td>0.00832</td>\n",
              "    </tr>\n",
              "    <tr>\n",
              "      <th>3934954</th>\n",
              "      <td>0.079592</td>\n",
              "      <td>0.014091</td>\n",
              "      <td>0.042725</td>\n",
              "      <td>0.002566</td>\n",
              "      <td>0.037718</td>\n",
              "      <td>0.00832</td>\n",
              "    </tr>\n",
              "    <tr>\n",
              "      <th>3934955</th>\n",
              "      <td>0.079592</td>\n",
              "      <td>0.014091</td>\n",
              "      <td>0.042725</td>\n",
              "      <td>0.002566</td>\n",
              "      <td>0.037718</td>\n",
              "      <td>0.00832</td>\n",
              "    </tr>\n",
              "    <tr>\n",
              "      <th>3934956</th>\n",
              "      <td>0.079592</td>\n",
              "      <td>0.014091</td>\n",
              "      <td>0.042725</td>\n",
              "      <td>0.002566</td>\n",
              "      <td>0.037718</td>\n",
              "      <td>0.00832</td>\n",
              "    </tr>\n",
              "    <tr>\n",
              "      <th>3934957</th>\n",
              "      <td>0.079592</td>\n",
              "      <td>0.014091</td>\n",
              "      <td>0.042725</td>\n",
              "      <td>0.002566</td>\n",
              "      <td>0.037718</td>\n",
              "      <td>0.00832</td>\n",
              "    </tr>\n",
              "  </tbody>\n",
              "</table>\n",
              "</div>"
            ],
            "text/plain": [
              "            toxic  severe_toxic   obscene    threat    insult  identity_hate\n",
              "3934953  0.079592      0.014091  0.042725  0.002566  0.037718        0.00832\n",
              "3934954  0.079592      0.014091  0.042725  0.002566  0.037718        0.00832\n",
              "3934955  0.079592      0.014091  0.042725  0.002566  0.037718        0.00832\n",
              "3934956  0.079592      0.014091  0.042725  0.002566  0.037718        0.00832\n",
              "3934957  0.079592      0.014091  0.042725  0.002566  0.037718        0.00832"
            ]
          },
          "metadata": {
            "tags": []
          },
          "execution_count": 58
        }
      ]
    },
    {
      "cell_type": "code",
      "metadata": {
        "id": "kUw6cnmIwsHb"
      },
      "source": [
        ""
      ],
      "execution_count": null,
      "outputs": []
    }
  ]
}